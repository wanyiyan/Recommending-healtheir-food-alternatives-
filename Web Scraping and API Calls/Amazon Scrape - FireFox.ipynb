{
 "cells": [
  {
   "cell_type": "markdown",
   "metadata": {},
   "source": [
    "### Scraping price data from Amazon.com using Selenium Webdriver"
   ]
  },
  {
   "cell_type": "markdown",
   "metadata": {},
   "source": [
    "##### Author: Rameez\n",
    "Instacart dataset : Instacart product file - 49688 unique products which inlcude non food items too"
   ]
  },
  {
   "cell_type": "code",
   "execution_count": null,
   "metadata": {},
   "outputs": [],
   "source": [
    "from bs4 import BeautifulSoup\n",
    "\n",
    "from selenium import webdriver\n",
    "from selenium.webdriver.support.ui import WebDriverWait\n",
    "from selenium.webdriver.firefox.options import Options\n",
    "from selenium.webdriver.support import expected_conditions as EC\n",
    "from selenium.webdriver.support.ui import Select\n",
    "from selenium.webdriver.common.by import By\n",
    "from selenium.common.exceptions import TimeoutException\n",
    "import pandas as pd\n",
    "import re\n",
    "import time\n",
    "import numpy as np"
   ]
  },
  {
   "cell_type": "markdown",
   "metadata": {},
   "source": [
    "#### Import Instacart data - brought in chunks of data"
   ]
  },
  {
   "cell_type": "code",
   "execution_count": null,
   "metadata": {},
   "outputs": [],
   "source": [
    "dataPath = 'D:\\Downloads'\n",
    "products = pd.read_csv(dataPath+\"/amazon_scrape_no_hits_4th_run_700-3200.csv\")"
   ]
  },
  {
   "cell_type": "code",
   "execution_count": null,
   "metadata": {},
   "outputs": [],
   "source": [
    "items = products[\"name\"]"
   ]
  },
  {
   "cell_type": "code",
   "execution_count": null,
   "metadata": {},
   "outputs": [],
   "source": [
    "urls = []\n",
    "prices = []\n",
    "prices_per_unit = []\n",
    "names = []\n",
    "original_name = []"
   ]
  },
  {
   "cell_type": "markdown",
   "metadata": {},
   "source": [
    "#### Scrape data using Selenium Webdriver to extract urls, price, price per unit, scraped name, and original name for product\n",
    "\n",
    "Credits to LucidProgramming for original code"
   ]
  },
  {
   "cell_type": "code",
   "execution_count": null,
   "metadata": {},
   "outputs": [],
   "source": [
    "class AmazonBot(object):\n",
    "    def __init__(self, items):\n",
    "        \"\"\"Setup bot for Amazon URL.\"\"\"\n",
    "        self.amazon_url = \"https://www.amazon.com\"\n",
    "        self.items = items\n",
    "\n",
    "        self.profile = webdriver.FirefoxProfile()\n",
    "        self.options = Options()\n",
    "        #self.options.add_argument(\"--headless\")\n",
    "        self.driver = webdriver.Firefox()\n",
    "\n",
    "        # Navigate to the Amazon URL.\n",
    "        self.driver.get(self.amazon_url)\n",
    "\n",
    "        # Obtain the source\n",
    "        self.html = self.driver.page_source\n",
    "        self.soup = BeautifulSoup(self.html, 'html.parser')\n",
    "        self.html = self.soup.prettify('utf-8')\n",
    "\n",
    "    def search_items(self):\n",
    "        \"\"\"Searches through the list of items obtained from spreadsheet and\n",
    "        obtains name, price, and URL information for each item.\"\"\"\n",
    "        for item in self.items:\n",
    "            try:\n",
    "                print(f\"Searching for {item}...\")\n",
    "\n",
    "                self.driver.get(self.amazon_url)\n",
    "                #select = Select(self.driver.find_element_by_id(\"searchDropdownDescription\"))\n",
    "                #select.select_by_visible_text('All Departments')\n",
    "\n",
    "                search_input = self.driver.find_element_by_id(\"twotabsearchtextbox\")\n",
    "                search_input.send_keys(item)\n",
    "\n",
    "                time.sleep(3)\n",
    "                #wait = WebDriverWait(self.driver, self.explicit_wait)\n",
    "                #wait.until(EC.presence_of_all_elements_located((By.ID, \"twotabsearchtextbox\")))\n",
    "                \n",
    "                search_button = self.driver.find_element_by_xpath('/html/body/div[1]/header/div/div[1]/div[3]/div/form/div[2]/div/input')\n",
    "                #search_button = self.driver.find_element_by_xpath('/html/body/div[1]/header/div/div[1]/div[2]/div/form/div[3]/div/span/input')\n",
    "                \n",
    "                search_button.click()\n",
    "\n",
    "                time.sleep(3)\n",
    "\n",
    "                try:\n",
    "                    t = self.driver.find_element_by_xpath('/html/body/div[1]/div[2]/div[1]/div/div[1]/div/span[3]/div[2]/div[2]/div/span/div/div/span/a')\n",
    "                except:\n",
    "                    try:\n",
    "                        t = self.driver.find_element_by_xpath('/html/body/div[1]/div[2]/div[1]/div/div[1]/div/span[3]/div[2]/div[3]/div/span/div/div/span/a')\n",
    "                    except:\n",
    "                        try:\n",
    "                            t = self.driver.find_element_by_xpath('/html/body/div[1]/div[2]/div[1]/div/div[1]/div/span[3]/div[2]/div[4]/div/span/div/div/span/a')\n",
    "                        except:\n",
    "                            try:\n",
    "                                t = self.driver.find_element_by_xpath('/html/body/div[1]/div[2]/div[1]/div/div[1]/div/span[3]/div[2]/div[5]/div/span/div/div/span/a')\n",
    "                            except:\n",
    "                                try:\n",
    "                                    t = self.driver.find_element_by_xpath('/html/body/div[1]/div[2]/div[1]/div/div[1]/div/span[3]/div[2]/div[6]/div/span/div/div/span/a')\n",
    "                                except:\n",
    "                                    try:\n",
    "                                        t = self.driver.find_element_by_xpath('/html/body/div[1]/div[2]/div[1]/div/div[1]/div/span[3]/div[2]/div[7]/div/span/div/div/div/span/a')\n",
    "                                    except:\n",
    "                                        try:\n",
    "                                            t = self.driver.find_element_by_xpath('/html/body/div[1]/div[2]/div[1]/div/div[1]/div/span[3]/div[2]/div[8]/div/span/div/div/div/span/a')\n",
    "                                        except:\n",
    "                                            try:\n",
    "                                                t = self.driver.find_element_by_xpath('/html/body/div[1]/div[2]/div[1]/div/div[1]/div/span[3]/div[2]/div[9]/div/span/div/div/div/span/a')\n",
    "                                            except:\n",
    "                                                try:\n",
    "                                                    t = self.driver.find_element_by_xpath('/html/body/div[1]/div[2]/div[1]/div/div[1]/div/span[3]/div[2]/div[10]/div/span/div/div/div/span/a')\n",
    "                                                except:\n",
    "                                                    pass\n",
    "                \n",
    "            \n",
    "                href = t.get_attribute(\"href\")\n",
    "                url = href\n",
    "                price = self.get_product_price(url)\n",
    "                price_per_unit = self.get_product_price_per_unit(url)\n",
    "                name = self.get_product_name(url)\n",
    "        \n",
    "                prices.append(price)\n",
    "                prices_per_unit.append(price_per_unit)\n",
    "                urls.append(url)\n",
    "                names.append(name)\n",
    "                original_name.append(item)\n",
    "\n",
    "                print(name)\n",
    "                print(price)\n",
    "                print(price_per_unit)\n",
    "                print(url)\n",
    "                print(item)\n",
    "\n",
    "                time.sleep(2)\n",
    "            except:\n",
    "                pass\n",
    "        \n",
    "        return prices, prices_per_unit, urls, names, item\n",
    "\n",
    "    def get_product_price(self, url):\n",
    "        self.driver.get(url)\n",
    "        price = np.nan\n",
    "        try:\n",
    "            price = self.driver.find_element_by_id(\"priceblock_ourprice\").text\n",
    "        except:\n",
    "            pass\n",
    "\n",
    "        try:\n",
    "            price = self.driver.find_element_by_id(\"priceblock_dealprice\").text\n",
    "        except:\n",
    "            pass\n",
    "\n",
    "        \"\"\"if price is None:\n",
    "            price = \"Not available\"\n",
    "\n",
    "        else:\n",
    "            non_decimal = re.compile(r'[^\\d.]+')\n",
    "            price = non_decimal.sub('', price)\"\"\"\n",
    "\n",
    "        return price\n",
    "    \n",
    "    def get_product_price_per_unit(self, url):\n",
    "        self.driver.get(url)\n",
    "        price_per_unit = np.nan\n",
    "        try:\n",
    "            price_per_unit = self.driver.find_element_by_css_selector(\"td.a-span12 > span:nth-child(2)\").text\n",
    "        except:\n",
    "            try:\n",
    "                price_per_unit = self.driver.find_element_by_css_selector(\"span.a-color-price:nth-child(2)\").text\n",
    "            except:\n",
    "                pass\n",
    "\n",
    "        \"\"\"if price_per_unit is None:\n",
    "            price_per_unit = \"Not available\"\"\"\n",
    "            \n",
    "        return price_per_unit\n",
    "\n",
    "    def get_product_name(self, url):\n",
    "        \"\"\"Returns the product name of the Amazon URL.\"\"\"\n",
    "        self.driver.get(url)\n",
    "        product_name = np.nan\n",
    "        try:\n",
    "            product_name = self.driver.find_element_by_css_selector(\"#productTitle\").text\n",
    "        except:\n",
    "            pass\n",
    "\n",
    "        \"\"\"if product_name is None:\n",
    "            product_name = \"Not available\"\"\"\n",
    "        \n",
    "        return product_name\n",
    "\n",
    "    \"\"\"def close_session(self):\n",
    "               self.driver.quit()\"\"\""
   ]
  },
  {
   "cell_type": "code",
   "execution_count": null,
   "metadata": {},
   "outputs": [],
   "source": [
    "try:\n",
    "    AmazonBot(items).search_items()\n",
    "except:\n",
    "    pass"
   ]
  },
  {
   "cell_type": "markdown",
   "metadata": {},
   "source": [
    "#### Return dataframe with original name, scraped name, url, price, and price per unit for the product"
   ]
  },
  {
   "cell_type": "code",
   "execution_count": null,
   "metadata": {},
   "outputs": [],
   "source": [
    "scrape_df = pd.DataFrame([original_name, names, urls, prices, prices_per_unit]).T"
   ]
  },
  {
   "cell_type": "code",
   "execution_count": null,
   "metadata": {},
   "outputs": [],
   "source": [
    "scrape_df"
   ]
  },
  {
   "cell_type": "code",
   "execution_count": null,
   "metadata": {},
   "outputs": [],
   "source": [
    "scrape_df.to_csv('amazonbot_scrape_no_hits_4th_run_700-3200.csv')"
   ]
  }
 ],
 "metadata": {
  "kernelspec": {
   "display_name": "Python 3",
   "language": "python",
   "name": "python3"
  },
  "language_info": {
   "codemirror_mode": {
    "name": "ipython",
    "version": 3
   },
   "file_extension": ".py",
   "mimetype": "text/x-python",
   "name": "python",
   "nbconvert_exporter": "python",
   "pygments_lexer": "ipython3",
   "version": "3.7.3"
  }
 },
 "nbformat": 4,
 "nbformat_minor": 2
}
