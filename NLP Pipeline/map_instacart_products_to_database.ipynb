{
 "cells": [
  {
   "cell_type": "markdown",
   "metadata": {},
   "source": [
    "### Map instacart products to nutrient database\n",
    "##### Authors: Reshma\n",
    "\n",
    "* Instacart dataset :\n",
    "    * Instacart product file - 49688 unique products which inlcude non food items too\n",
    "    \n",
    "* Nutrient database:\n",
    "    * Cleaned USDA file V1\n",
    "    * Cleaned NutrientValue extract by web scraping\n",
    "    \n",
    "* Similarity matrix:\n",
    "    * Jaccard Similarity\n",
    "    * Spacy - \"en_core_web_lg\" database"
   ]
  },
  {
   "cell_type": "code",
   "execution_count": 40,
   "metadata": {},
   "outputs": [],
   "source": [
    "import pandas as pd\n",
    "import numpy as np\n",
    "import nltk as nltk\n",
    "from tqdm import tqdm\n",
    "import time\n",
    "import warnings;\n",
    "warnings.filterwarnings('ignore')\n",
    "\n",
    "import spacy\n",
    "nlp = spacy.load('en_core_web_lg')"
   ]
  },
  {
   "cell_type": "code",
   "execution_count": 41,
   "metadata": {},
   "outputs": [],
   "source": [
    "path1 = 'C:/Users/SSK/Documents/UC - MScA/Courses/Capstone/Datasets/Nutrition/Final Dataset/'\n",
    "path2 = 'C:/Users/SSK/Documents/UC - MScA/Courses/Capstone/Datasets/instacart_online_grocery_shopping_2017_05_01/instacart_2017_05_01/'"
   ]
  },
  {
   "cell_type": "markdown",
   "metadata": {},
   "source": [
    "#### Read nutrient database products"
   ]
  },
  {
   "cell_type": "code",
   "execution_count": 42,
   "metadata": {},
   "outputs": [],
   "source": [
    "nutri_web  = pd.read_csv(path1+'NutritionValueExtract.csv')\n",
    "nutri_usda = pd.read_csv(path1+'Nutrition Data Consolidated with additional attributesV1.csv')"
   ]
  },
  {
   "cell_type": "code",
   "execution_count": 43,
   "metadata": {},
   "outputs": [],
   "source": [
    "db_products = np.unique(list(nutri_web['Product Name'].values) + list(nutri_usda['name'].values))"
   ]
  },
  {
   "cell_type": "code",
   "execution_count": 32,
   "metadata": {},
   "outputs": [],
   "source": [
    "db_products = {prod.lower():nlp(prod.lower()) for prod in db_products}"
   ]
  },
  {
   "cell_type": "markdown",
   "metadata": {},
   "source": [
    "#### Read instacart products"
   ]
  },
  {
   "cell_type": "code",
   "execution_count": 44,
   "metadata": {},
   "outputs": [],
   "source": [
    "insta_ = pd.read_csv(path2+'products.csv')"
   ]
  },
  {
   "cell_type": "code",
   "execution_count": 45,
   "metadata": {},
   "outputs": [],
   "source": [
    "insta_products = list(insta_['product_name'].values)\n",
    "insta_df = pd.DataFrame(insta_products, columns=['Product Name'])\n",
    "insta_df['Product Name'] = insta_df['Product Name'].apply(lambda x : x.lower())"
   ]
  },
  {
   "cell_type": "code",
   "execution_count": 48,
   "metadata": {},
   "outputs": [],
   "source": [
    "insta_df = insta_df.head(1000)"
   ]
  },
  {
   "cell_type": "markdown",
   "metadata": {},
   "source": [
    "#### Functions"
   ]
  },
  {
   "cell_type": "code",
   "execution_count": 49,
   "metadata": {},
   "outputs": [],
   "source": [
    "def get_jd_sim(insta_prod):\n",
    "    sim_arr = {db_prod:nltk.jaccard_distance(set(insta_prod.split()), set(db_prod.split())) for db_prod in db_products}\n",
    "    sel_dict = sorted(sim_arr.items(), key=lambda x:x[1])[:3] #lower jaccard similarity is better\n",
    "    return [i[0] for i in sel_dict]\n",
    "\n",
    "def get_spacy_sim(insta_prod):\n",
    "    prod_1 = nlp(insta_prod.lower())\n",
    "    sim_arr = {db_k:prod_1.similarity(db_v) for db_k, db_v in db_products.items()}\n",
    "    sel_dict = sorted(sim_arr.items(), key=lambda x:-x[1])[:3] #reverse sorted- higher spacy similarity is better\n",
    "    return [i[0] for i in sel_dict]"
   ]
  },
  {
   "cell_type": "markdown",
   "metadata": {},
   "source": [
    "#### Run Jaccard similarity"
   ]
  },
  {
   "cell_type": "code",
   "execution_count": 50,
   "metadata": {},
   "outputs": [
    {
     "name": "stdout",
     "output_type": "stream",
     "text": [
      "total time in minutes: 5.08179192940394\n"
     ]
    }
   ],
   "source": [
    "start_time = time.time()\n",
    "insta_df['JD Match1'], insta_df['JD Match2'], insta_df['JD Match3'] = zip(*insta_df['Product Name'].apply\n",
    "                                                                 (lambda product: get_jd_sim(product)))\n",
    "print(\"total time in minutes:\", (time.time() - start_time)/60.0)"
   ]
  },
  {
   "cell_type": "markdown",
   "metadata": {},
   "source": [
    "#### Run spacy similarity"
   ]
  },
  {
   "cell_type": "code",
   "execution_count": 38,
   "metadata": {},
   "outputs": [
    {
     "name": "stdout",
     "output_type": "stream",
     "text": [
      "total time in minutes: 21.57397082646688\n"
     ]
    }
   ],
   "source": [
    "start_time = time.time()\n",
    "insta_df['SP Match1'], insta_df['SP Match2'], insta_df['SP Match3'] = zip(*insta_df['Product Name'].apply\n",
    "                                                                 (lambda product: get_spacy_sim(product)))\n",
    "print(\"total time in minutes:\", (time.time() - start_time)/60.0)"
   ]
  },
  {
   "cell_type": "code",
   "execution_count": 39,
   "metadata": {},
   "outputs": [
    {
     "data": {
      "text/html": [
       "<div>\n",
       "<style scoped>\n",
       "    .dataframe tbody tr th:only-of-type {\n",
       "        vertical-align: middle;\n",
       "    }\n",
       "\n",
       "    .dataframe tbody tr th {\n",
       "        vertical-align: top;\n",
       "    }\n",
       "\n",
       "    .dataframe thead th {\n",
       "        text-align: right;\n",
       "    }\n",
       "</style>\n",
       "<table border=\"1\" class=\"dataframe\">\n",
       "  <thead>\n",
       "    <tr style=\"text-align: right;\">\n",
       "      <th></th>\n",
       "      <th>Product Name</th>\n",
       "      <th>JD Match1</th>\n",
       "      <th>JD Match2</th>\n",
       "      <th>JD Match3</th>\n",
       "      <th>SP Match1</th>\n",
       "      <th>SP Match2</th>\n",
       "      <th>SP Match3</th>\n",
       "    </tr>\n",
       "  </thead>\n",
       "  <tbody>\n",
       "    <tr>\n",
       "      <th>0</th>\n",
       "      <td>chocolate sandwich cookies</td>\n",
       "      <td>cookies chocolate wafers</td>\n",
       "      <td>cookies chocolate chip sandwich with creme fil...</td>\n",
       "      <td>cookies chocolate sandwich with creme filling ...</td>\n",
       "      <td>cookies chocolate chip sandwich with creme fil...</td>\n",
       "      <td>cookies chocolate sandwich with creme filling ...</td>\n",
       "      <td>cookies chocolate sandwich with extra creme fi...</td>\n",
       "    </tr>\n",
       "    <tr>\n",
       "      <th>1</th>\n",
       "      <td>all-seasons salt</td>\n",
       "      <td>table salt</td>\n",
       "      <td>butter, without salt</td>\n",
       "      <td>salt pork cooked</td>\n",
       "      <td>peanuts all types dry-roasted with salt</td>\n",
       "      <td>peanuts all types oil-roasted without salt</td>\n",
       "      <td>malt-o-meal original plain prepared with water...</td>\n",
       "    </tr>\n",
       "    <tr>\n",
       "      <th>2</th>\n",
       "      <td>robust golden unsweetened oolong tea</td>\n",
       "      <td>oolong tea</td>\n",
       "      <td>tea instant decaffeinated unsweetened</td>\n",
       "      <td>tea instant lemon unsweetened</td>\n",
       "      <td>tea instant decaffeinated unsweetened</td>\n",
       "      <td>oolong tea</td>\n",
       "      <td>tea iced instant black unsweetened</td>\n",
       "    </tr>\n",
       "    <tr>\n",
       "      <th>3</th>\n",
       "      <td>smart ones classic favorites mini rigatoni wit...</td>\n",
       "      <td>vodka sauce with tomatoes and cream</td>\n",
       "      <td>veal with cream sauce</td>\n",
       "      <td>pasta with cream sauce ready-to-heat</td>\n",
       "      <td>vodka sauce with tomatoes and cream</td>\n",
       "      <td>pasta with cream sauce home recipe</td>\n",
       "      <td>swedish meatballs with cream or white sauce</td>\n",
       "    </tr>\n",
       "    <tr>\n",
       "      <th>4</th>\n",
       "      <td>green chile anytime sauce</td>\n",
       "      <td>enchilada sauce green</td>\n",
       "      <td>sauce hot chile sriracha tuong ot sriracha</td>\n",
       "      <td>sauce chili peppers hot immature green canned</td>\n",
       "      <td>enchilada with beans green-chile or enchilada ...</td>\n",
       "      <td>enchilada with chicken green-chile or enchilad...</td>\n",
       "      <td>enchilada with meat green-chile or enchilada s...</td>\n",
       "    </tr>\n",
       "    <tr>\n",
       "      <th>...</th>\n",
       "      <td>...</td>\n",
       "      <td>...</td>\n",
       "      <td>...</td>\n",
       "      <td>...</td>\n",
       "      <td>...</td>\n",
       "      <td>...</td>\n",
       "      <td>...</td>\n",
       "    </tr>\n",
       "    <tr>\n",
       "      <th>995</th>\n",
       "      <td>honey cinnamon nut-thins  crackers</td>\n",
       "      <td>cinnamon</td>\n",
       "      <td>cinnamon buns frosted (includes honey buns)</td>\n",
       "      <td>cinnamon buns, frosted (includes honey buns)</td>\n",
       "      <td>nuts almonds honey roasted unblanched</td>\n",
       "      <td>honey butter</td>\n",
       "      <td>biscuit cinnamon-raisin</td>\n",
       "    </tr>\n",
       "    <tr>\n",
       "      <th>996</th>\n",
       "      <td>mini double chocolate ice cream bars</td>\n",
       "      <td>ice cream soda chocolate</td>\n",
       "      <td>light ice cream cone chocolate</td>\n",
       "      <td>soft serve chocolate ice cream</td>\n",
       "      <td>ice cream bar or stick chocolate ice cream cho...</td>\n",
       "      <td>ice cream bar or stick rich chocolate ice crea...</td>\n",
       "      <td>ice cream bar or stick chocolate covered</td>\n",
       "    </tr>\n",
       "    <tr>\n",
       "      <th>997</th>\n",
       "      <td>hot chopped green chili</td>\n",
       "      <td>hot green chili peppers</td>\n",
       "      <td>green chili peppers</td>\n",
       "      <td>sauce chili peppers hot immature green canned</td>\n",
       "      <td>hot green chili peppers</td>\n",
       "      <td>sauce chili peppers hot immature green canned</td>\n",
       "      <td>sauce peppers hot chili mature red canned</td>\n",
       "    </tr>\n",
       "    <tr>\n",
       "      <th>998</th>\n",
       "      <td>original organic ville bbq sauce</td>\n",
       "      <td>sauce barbecue bulls-eye original</td>\n",
       "      <td>sauce barbecue kraft original</td>\n",
       "      <td>sauce barbecue kc masterpiece original</td>\n",
       "      <td>sauce barbecue kraft original</td>\n",
       "      <td>sauce barbecue kc masterpiece original</td>\n",
       "      <td>barbecue sauce</td>\n",
       "    </tr>\n",
       "    <tr>\n",
       "      <th>999</th>\n",
       "      <td>apricots</td>\n",
       "      <td>apricots</td>\n",
       "      <td>dried apricots</td>\n",
       "      <td>apricots frozen sweetened</td>\n",
       "      <td>apricots</td>\n",
       "      <td>dried apricots</td>\n",
       "      <td>plums</td>\n",
       "    </tr>\n",
       "  </tbody>\n",
       "</table>\n",
       "<p>1000 rows × 7 columns</p>\n",
       "</div>"
      ],
      "text/plain": [
       "                                          Product Name  \\\n",
       "0                           chocolate sandwich cookies   \n",
       "1                                     all-seasons salt   \n",
       "2                 robust golden unsweetened oolong tea   \n",
       "3    smart ones classic favorites mini rigatoni wit...   \n",
       "4                            green chile anytime sauce   \n",
       "..                                                 ...   \n",
       "995                 honey cinnamon nut-thins  crackers   \n",
       "996               mini double chocolate ice cream bars   \n",
       "997                            hot chopped green chili   \n",
       "998                   original organic ville bbq sauce   \n",
       "999                                           apricots   \n",
       "\n",
       "                               JD Match1  \\\n",
       "0               cookies chocolate wafers   \n",
       "1                             table salt   \n",
       "2                             oolong tea   \n",
       "3    vodka sauce with tomatoes and cream   \n",
       "4                  enchilada sauce green   \n",
       "..                                   ...   \n",
       "995                             cinnamon   \n",
       "996             ice cream soda chocolate   \n",
       "997              hot green chili peppers   \n",
       "998    sauce barbecue bulls-eye original   \n",
       "999                             apricots   \n",
       "\n",
       "                                             JD Match2  \\\n",
       "0    cookies chocolate chip sandwich with creme fil...   \n",
       "1                                 butter, without salt   \n",
       "2                tea instant decaffeinated unsweetened   \n",
       "3                                veal with cream sauce   \n",
       "4           sauce hot chile sriracha tuong ot sriracha   \n",
       "..                                                 ...   \n",
       "995        cinnamon buns frosted (includes honey buns)   \n",
       "996                     light ice cream cone chocolate   \n",
       "997                                green chili peppers   \n",
       "998                      sauce barbecue kraft original   \n",
       "999                                     dried apricots   \n",
       "\n",
       "                                             JD Match3  \\\n",
       "0    cookies chocolate sandwich with creme filling ...   \n",
       "1                                     salt pork cooked   \n",
       "2                        tea instant lemon unsweetened   \n",
       "3                 pasta with cream sauce ready-to-heat   \n",
       "4        sauce chili peppers hot immature green canned   \n",
       "..                                                 ...   \n",
       "995       cinnamon buns, frosted (includes honey buns)   \n",
       "996                     soft serve chocolate ice cream   \n",
       "997      sauce chili peppers hot immature green canned   \n",
       "998             sauce barbecue kc masterpiece original   \n",
       "999                          apricots frozen sweetened   \n",
       "\n",
       "                                             SP Match1  \\\n",
       "0    cookies chocolate chip sandwich with creme fil...   \n",
       "1              peanuts all types dry-roasted with salt   \n",
       "2                tea instant decaffeinated unsweetened   \n",
       "3                  vodka sauce with tomatoes and cream   \n",
       "4    enchilada with beans green-chile or enchilada ...   \n",
       "..                                                 ...   \n",
       "995              nuts almonds honey roasted unblanched   \n",
       "996  ice cream bar or stick chocolate ice cream cho...   \n",
       "997                            hot green chili peppers   \n",
       "998                      sauce barbecue kraft original   \n",
       "999                                           apricots   \n",
       "\n",
       "                                             SP Match2  \\\n",
       "0    cookies chocolate sandwich with creme filling ...   \n",
       "1           peanuts all types oil-roasted without salt   \n",
       "2                                           oolong tea   \n",
       "3                   pasta with cream sauce home recipe   \n",
       "4    enchilada with chicken green-chile or enchilad...   \n",
       "..                                                 ...   \n",
       "995                                       honey butter   \n",
       "996  ice cream bar or stick rich chocolate ice crea...   \n",
       "997      sauce chili peppers hot immature green canned   \n",
       "998             sauce barbecue kc masterpiece original   \n",
       "999                                     dried apricots   \n",
       "\n",
       "                                             SP Match3  \n",
       "0    cookies chocolate sandwich with extra creme fi...  \n",
       "1    malt-o-meal original plain prepared with water...  \n",
       "2                   tea iced instant black unsweetened  \n",
       "3          swedish meatballs with cream or white sauce  \n",
       "4    enchilada with meat green-chile or enchilada s...  \n",
       "..                                                 ...  \n",
       "995                            biscuit cinnamon-raisin  \n",
       "996           ice cream bar or stick chocolate covered  \n",
       "997          sauce peppers hot chili mature red canned  \n",
       "998                                     barbecue sauce  \n",
       "999                                              plums  \n",
       "\n",
       "[1000 rows x 7 columns]"
      ]
     },
     "execution_count": 39,
     "metadata": {},
     "output_type": "execute_result"
    }
   ],
   "source": [
    "insta_df"
   ]
  }
 ],
 "metadata": {
  "kernelspec": {
   "display_name": "Python 3",
   "language": "python",
   "name": "python3"
  },
  "language_info": {
   "codemirror_mode": {
    "name": "ipython",
    "version": 3
   },
   "file_extension": ".py",
   "mimetype": "text/x-python",
   "name": "python",
   "nbconvert_exporter": "python",
   "pygments_lexer": "ipython3",
   "version": "3.7.1"
  }
 },
 "nbformat": 4,
 "nbformat_minor": 2
}
