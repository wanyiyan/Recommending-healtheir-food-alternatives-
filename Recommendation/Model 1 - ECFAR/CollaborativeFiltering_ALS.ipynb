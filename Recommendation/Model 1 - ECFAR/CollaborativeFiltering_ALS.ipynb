{
 "cells": [
  {
   "cell_type": "markdown",
   "metadata": {},
   "source": [
    "### This is a notebook for creating reference model using ECFAR algorithm. \n",
    "\n",
    "##### Author - Reshma\n",
    "-- Collaborative filtering part\n",
    "\n",
    "#### Get train users distinct item counts \n",
    "    * K=15 which is number of items predicted for next basket\n",
    "    * Select user who have atleast 4 transaction orders\n",
    "    * Primary rule: Association rule\n",
    "    * Secondary rule: Collaborative filtering rule\n",
    "    \n",
    "Wang, Feiran and Wen, Yiping and Guo, Tianhang and Liu, Jianxun and Cao, Buqing. Collaborative filtering and association rule mining-based market basket recommendation on spark. Concurrency and Computation: Practice and Experience"
   ]
  },
  {
   "cell_type": "code",
   "execution_count": null,
   "metadata": {},
   "outputs": [],
   "source": [
    "from pyspark.sql import SparkSession\n",
    "spark = SparkSession.builder.appName('Capstone_MBA').getOrCreate()\n",
    "\n",
    "%matplotlib inline"
   ]
  },
  {
   "cell_type": "code",
   "execution_count": 6,
   "metadata": {},
   "outputs": [],
   "source": [
    "# Import Data\n",
    "dataDir = \"/user/reshmask/capstone/\"\n",
    "data    = spark.read.csv(dataDir + \"instacart.csv\", header=True, inferSchema=True)"
   ]
  },
  {
   "cell_type": "markdown",
   "metadata": {},
   "source": [
    "### ALS\n",
    "\n",
    "[Alternating Least Squares(ALS)](https://spark.apache.org/docs/latest/ml-collaborative-filtering.html) is a the model we’ll use to fit our data and find similarities. ALS is an iterative optimization process where we for every iteration try to arrive closer and closer to a factorized representation of our original data.\n",
    "\n",
    "For implicit preference data, the algorithm used is based on “Collaborative Filtering for Implicit Feedback Datasets”,, adapted for the blocked approach used here.\n",
    "\n",
    "Essentially instead of finding the low-rank approximations to the rating matrix R, this finds the approximations for a preference matrix P where the elements of P are 1 if r > 0 and 0 if r <= 0. The ratings then act as ‘confidence’ values related to strength of indicated user preferences rather than explicit ratings given to items.\n",
    "\n",
    "### Cold Start Predictions\n",
    "\n",
    "When there are cold start users or items to make predictions on (ones not available in the model) the predictions produce NaNs as shown in the summary below. This also causes evaluation with the mean squared error to produce a NaN.To solve this problem, the rows can be dropped with <code>predictions.na.drop()</code>. A more streamlined way is to add the <code>coldStartStrategy=\"drop\"</code> as a model parameter."
   ]
  },
  {
   "cell_type": "code",
   "execution_count": 7,
   "metadata": {},
   "outputs": [],
   "source": [
    "from pyspark.ml.recommendation import ALS\n",
    "from pyspark.ml.evaluation import RegressionEvaluator"
   ]
  },
  {
   "cell_type": "code",
   "execution_count": 8,
   "metadata": {},
   "outputs": [],
   "source": [
    "## split train and test dataset\n",
    "train_df = data.filter(data[\"eval_set\"]==\"prior\")\n",
    "test_df  = data.filter(data[\"eval_set\"]==\"train\")"
   ]
  },
  {
   "cell_type": "code",
   "execution_count": 10,
   "metadata": {},
   "outputs": [],
   "source": [
    "## build user-item frequency matrix\n",
    "train_als = train_df.groupby(['db_food_id', 'user_id']).count()\n",
    "test_als  = test_df.groupby(['db_food_id', 'user_id']).count()"
   ]
  },
  {
   "cell_type": "code",
   "execution_count": 11,
   "metadata": {},
   "outputs": [
    {
     "name": "stdout",
     "output_type": "stream",
     "text": [
      "+----------+-------+-----+\n",
      "|db_food_id|user_id|count|\n",
      "+----------+-------+-----+\n",
      "|     40847|  45765|   17|\n",
      "|     55383| 156184|    1|\n",
      "|     32191| 110777|    5|\n",
      "|     36574|  23297|    2|\n",
      "|     35052| 134599|    2|\n",
      "|     11852| 185905|    5|\n",
      "|     10996|  87494|   10|\n",
      "|     33393| 125187|    3|\n",
      "|     39785| 204950|    6|\n",
      "|     37677|  36894|    1|\n",
      "+----------+-------+-----+\n",
      "only showing top 10 rows\n",
      "\n"
     ]
    }
   ],
   "source": [
    "train_als.show(10)"
   ]
  },
  {
   "cell_type": "code",
   "execution_count": 12,
   "metadata": {},
   "outputs": [],
   "source": [
    "# Build the recommendation model using ALS on the training data\n",
    "# Note we set cold start strategy to 'drop' to ensure we don't get NaN evaluation metrics\n",
    "als = ALS(maxIter=10, regParam=0.01, userCol=\"user_id\", itemCol=\"db_food_id\", ratingCol=\"count\",\n",
    "          coldStartStrategy=\"drop\", nonnegative = True)"
   ]
  },
  {
   "cell_type": "code",
   "execution_count": 13,
   "metadata": {},
   "outputs": [],
   "source": [
    "#fit and predict\n",
    "model_als   = als.fit(train_als)\n",
    "predictions = model_als.transform(test_als)"
   ]
  },
  {
   "cell_type": "code",
   "execution_count": 14,
   "metadata": {},
   "outputs": [
    {
     "name": "stdout",
     "output_type": "stream",
     "text": [
      "RMSE=4.130624211430937\n",
      "+----------+-------+-----+----------+\n",
      "|db_food_id|user_id|count|prediction|\n",
      "+----------+-------+-----+----------+\n",
      "|      1238|  10195|    1|0.93837816|\n",
      "|      1238|  37389|    1| 0.7414965|\n",
      "|      1238| 111286|    1| 1.3206091|\n",
      "|      1238| 205187|    1|  3.215652|\n",
      "|      1238| 164114|    1| 0.8272763|\n",
      "|      1238| 165935|    1|0.88317794|\n",
      "|      1238| 136805|    1| 0.9235882|\n",
      "|      1238|  64208|    1| 2.1437192|\n",
      "|      1238|  58526|    1| 0.9380222|\n",
      "|      1238|  98144|    1| 0.8043657|\n",
      "|      1238|  24457|    1| 1.2789723|\n",
      "|      1238| 142267|    1|  0.523955|\n",
      "|      1238| 161319|    1| 1.2288841|\n",
      "|      1238|  14928|    1| 1.2893299|\n",
      "|      1238| 195058|    1| 1.7174466|\n",
      "|      1238|  32320|    1| 1.6573441|\n",
      "|      1238|  16710|    1| 1.4726865|\n",
      "|      1238| 180934|    1| 1.5805019|\n",
      "|      1238|   7040|    1| 1.3913372|\n",
      "|      1580|  44032|    1|0.69242245|\n",
      "+----------+-------+-----+----------+\n",
      "only showing top 20 rows\n",
      "\n"
     ]
    }
   ],
   "source": [
    "evaluator  = RegressionEvaluator(metricName=\"rmse\",labelCol=\"count\",predictionCol=\"prediction\")\n",
    "predictions= model_als.transform(test_als)\n",
    "rmse       = evaluator.evaluate(predictions)\n",
    "print(\"RMSE=\"+str(rmse))\n",
    "predictions.show()"
   ]
  },
  {
   "cell_type": "code",
   "execution_count": 15,
   "metadata": {},
   "outputs": [
    {
     "data": {
      "text/plain": [
       "'coldStartStrategy: strategy for dealing with unknown or new users/items at prediction time. This may be useful in cross-validation or production scenarios, for handling user/item ids the model has not seen in the training data. Supported values: nan,drop. (default: nan, current: drop)\\nitemCol: column name for item ids. Ids must be within the integer value range. (default: item, current: db_food_id)\\npredictionCol: prediction column name (default: prediction)\\nuserCol: column name for user ids. Ids must be within the integer value range. (default: user, current: user_id)'"
      ]
     },
     "execution_count": 15,
     "metadata": {},
     "output_type": "execute_result"
    }
   ],
   "source": [
    "#explain parameters of the model\n",
    "model_als.explainParams()"
   ]
  },
  {
   "cell_type": "code",
   "execution_count": 16,
   "metadata": {},
   "outputs": [
    {
     "name": "stdout",
     "output_type": "stream",
     "text": [
      "+----+------------------------------------------------------------------------------------------------------------------+\n",
      "|id  |features                                                                                                          |\n",
      "+----+------------------------------------------------------------------------------------------------------------------+\n",
      "|970 |[0.088116884, 0.0, 0.0, 0.035574753, 0.27838606, 0.0, 0.486654, 0.7738914, 0.0, 0.033094883]                      |\n",
      "|980 |[0.0, 0.013763662, 0.0, 0.0, 0.3498928, 0.13102037, 1.0802736, 0.19282363, 0.0, 0.3486929]                        |\n",
      "|1020|[0.065856196, 0.0, 0.55094784, 0.0, 0.0, 0.0, 0.91577226, 0.2944313, 0.0, 0.15547165]                             |\n",
      "|1030|[0.19036083, 0.17601016, 0.0723071, 0.12571405, 0.47627324, 0.0, 0.042583797, 0.16411342, 0.048832636, 0.0]       |\n",
      "|1060|[0.044638943, 0.0, 0.20901686, 0.2618084, 0.011542382, 0.0, 0.05577788, 0.22124489, 0.28142706, 0.15492912]       |\n",
      "|1070|[0.0, 0.5380989, 0.23103878, 0.16075896, 0.0, 0.12959315, 0.0, 0.40831146, 0.0, 0.0]                              |\n",
      "|1080|[0.07608524, 0.10841511, 0.16378593, 0.28298646, 0.14445469, 0.13051714, 0.0, 0.29629087, 0.020450579, 0.03224265]|\n",
      "|1100|[0.15938579, 0.18852785, 0.18289761, 0.1028165, 0.0776005, 0.11087178, 0.022998577, 0.31734213, 0.022120109, 0.0] |\n",
      "|1240|[0.012246355, 0.0, 0.62551075, 0.0, 0.07233502, 0.0, 0.0, 0.37816662, 0.0, 0.0]                                   |\n",
      "|1250|[0.2765866, 0.5414152, 0.049836103, 0.09599017, 0.005831488, 0.12829992, 0.0, 0.20116392, 0.0, 0.20773472]        |\n",
      "+----+------------------------------------------------------------------------------------------------------------------+\n",
      "only showing top 10 rows\n",
      "\n"
     ]
    }
   ],
   "source": [
    "#item factors \n",
    "model_als.itemFactors.show(10, truncate = False)"
   ]
  },
  {
   "cell_type": "code",
   "execution_count": 28,
   "metadata": {},
   "outputs": [
    {
     "name": "stdout",
     "output_type": "stream",
     "text": [
      "+----------+-------+-----+----------+\n",
      "|db_food_id|user_id|count|prediction|\n",
      "+----------+-------+-----+----------+\n",
      "|      1238|  37389|    1|0.98203385|\n",
      "|      1238|  10195|    1| 1.2160385|\n",
      "|      1238| 111286|    1|  1.648296|\n",
      "|      1238|  32320|    1| 2.8713043|\n",
      "|      1238|  64208|    1| 2.3204348|\n",
      "|      1238| 142267|    1| 0.4775596|\n",
      "|      1238|  58526|    1| 1.3425761|\n",
      "|      1238| 161319|    1| 1.3234239|\n",
      "|      1238| 165935|    1| 0.6718278|\n",
      "|      1238|  14928|    1| 1.3865718|\n",
      "+----------+-------+-----+----------+\n",
      "only showing top 10 rows\n",
      "\n"
     ]
    }
   ],
   "source": [
    "predictions.show(10)"
   ]
  },
  {
   "cell_type": "code",
   "execution_count": 17,
   "metadata": {},
   "outputs": [],
   "source": [
    "recs=model_als.recommendForAllUsers(15).toPandas()"
   ]
  },
  {
   "cell_type": "code",
   "execution_count": 18,
   "metadata": {},
   "outputs": [],
   "source": [
    "import pandas as pd\n",
    "# recs=model.recommendForAllUsers(10).toPandas()\n",
    "nrecs=recs.recommendations.apply(pd.Series) \\\n",
    "            .merge(recs, right_index = True, left_index = True) \\\n",
    "            .drop([\"recommendations\"], axis = 1) \\\n",
    "            .melt(id_vars = ['user_id'], value_name = \"recommendation\") \\\n",
    "            .drop(\"variable\", axis = 1) \\\n",
    "            .dropna() \n",
    "nrecs=nrecs.sort_values('user_id')\n",
    "nrecs=pd.concat([nrecs['recommendation'].apply(pd.Series), nrecs['user_id']], axis = 1)\n",
    "nrecs.columns = [\n",
    "        \n",
    "        'db_food_id',\n",
    "        'count',\n",
    "        'user_id'\n",
    "       \n",
    "     ]"
   ]
  },
  {
   "cell_type": "code",
   "execution_count": 21,
   "metadata": {},
   "outputs": [],
   "source": [
    "nrecs.to_csv('collab_filter_results.csv', index= False)"
   ]
  }
 ],
 "metadata": {
  "kernelspec": {
   "display_name": "Python 3",
   "language": "python",
   "name": "python3"
  },
  "language_info": {
   "codemirror_mode": {
    "name": "ipython",
    "version": 3
   },
   "file_extension": ".py",
   "mimetype": "text/x-python",
   "name": "python",
   "nbconvert_exporter": "python",
   "pygments_lexer": "ipython3",
   "version": "3.7.1"
  }
 },
 "nbformat": 4,
 "nbformat_minor": 2
}
