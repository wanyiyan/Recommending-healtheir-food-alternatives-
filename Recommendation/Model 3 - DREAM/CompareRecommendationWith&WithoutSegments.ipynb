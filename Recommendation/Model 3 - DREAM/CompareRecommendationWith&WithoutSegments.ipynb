{
 "cells": [
  {
   "cell_type": "markdown",
   "metadata": {},
   "source": [
    "### The purpose of this notebook is to compare recommendation model (DREAM) with and without customer segmentation\n",
    "\n",
    "##### Author - Reshma"
   ]
  },
  {
   "cell_type": "code",
   "execution_count": null,
   "metadata": {},
   "outputs": [],
   "source": [
    "import pandas as pd\n",
    "import numpy as np"
   ]
  },
  {
   "cell_type": "code",
   "execution_count": 47,
   "metadata": {},
   "outputs": [],
   "source": [
    "reco_all = pd.read_csv('results/finall_all_data_result.csv')#all data\n",
    "reco_c0 = pd.read_csv('results/final_cluster_0_result.csv')#Regular\n",
    "reco_c1 = pd.read_csv('results/final_cluster_1_result.csv')#Loyal \n",
    "reco_c2 = pd.read_csv('results/final_cluster_2_result.csv')#Health Conscious\n",
    "reco_c3 = pd.read_csv('results/final_cluster_3_result.csv')#Occasional"
   ]
  },
  {
   "cell_type": "code",
   "execution_count": 3,
   "metadata": {},
   "outputs": [
    {
     "data": {
      "text/plain": [
       "((72000, 5), (24000, 5), (5250, 5), (58000, 5))"
      ]
     },
     "execution_count": 3,
     "metadata": {},
     "output_type": "execute_result"
    }
   ],
   "source": [
    "reco_c0.shape, reco_c1.shape, reco_c2.shape, reco_c3.shape"
   ]
  },
  {
   "cell_type": "markdown",
   "metadata": {},
   "source": [
    "### Hit Ratio of all users without cluster"
   ]
  },
  {
   "cell_type": "code",
   "execution_count": 5,
   "metadata": {},
   "outputs": [
    {
     "data": {
      "text/plain": [
       "0.4-0.6    48859\n",
       "0.6-0.8    33118\n",
       "0.2-0.4    32967\n",
       "0.8-1.0    28707\n",
       "0-0.2      13349\n",
       "Name: Hit-Ratio-confi, dtype: int64"
      ]
     },
     "execution_count": 5,
     "metadata": {},
     "output_type": "execute_result"
    }
   ],
   "source": [
    "reco_all['Hit-Ratio-confi'].value_counts()"
   ]
  },
  {
   "cell_type": "code",
   "execution_count": 6,
   "metadata": {},
   "outputs": [
    {
     "data": {
      "text/plain": [
       "0.4-0.6    0.311204\n",
       "0.6-0.8    0.210943\n",
       "0.2-0.4    0.209981\n",
       "0.8-1.0    0.182847\n",
       "0-0.2      0.085025\n",
       "Name: Hit-Ratio-confi, dtype: float64"
      ]
     },
     "execution_count": 6,
     "metadata": {},
     "output_type": "execute_result"
    }
   ],
   "source": [
    "reco_all['Hit-Ratio-confi'].value_counts(normalize=True)"
   ]
  },
  {
   "cell_type": "markdown",
   "metadata": {},
   "source": [
    "### Hit Ratio Clutster0 - Regular"
   ]
  },
  {
   "cell_type": "code",
   "execution_count": 8,
   "metadata": {},
   "outputs": [],
   "source": [
    "reco_c0 = pd.merge(reco_c0,reco_all[['UserID', 'Hit-Ratio-confi']], on='UserID', how='left')"
   ]
  },
  {
   "cell_type": "code",
   "execution_count": 11,
   "metadata": {},
   "outputs": [],
   "source": [
    "bar_c0 = pd.merge(reco_c0['confi'].value_counts(normalize=True), reco_c0['Hit-Ratio-confi'].value_counts(normalize=True), left_index=True, right_index=True)"
   ]
  },
  {
   "cell_type": "code",
   "execution_count": 13,
   "metadata": {},
   "outputs": [
    {
     "data": {
      "text/html": [
       "<div>\n",
       "<style scoped>\n",
       "    .dataframe tbody tr th:only-of-type {\n",
       "        vertical-align: middle;\n",
       "    }\n",
       "\n",
       "    .dataframe tbody tr th {\n",
       "        vertical-align: top;\n",
       "    }\n",
       "\n",
       "    .dataframe thead th {\n",
       "        text-align: right;\n",
       "    }\n",
       "</style>\n",
       "<table border=\"1\" class=\"dataframe\">\n",
       "  <thead>\n",
       "    <tr style=\"text-align: right;\">\n",
       "      <th></th>\n",
       "      <th>confi</th>\n",
       "      <th>Hit-Ratio-confi</th>\n",
       "    </tr>\n",
       "  </thead>\n",
       "  <tbody>\n",
       "    <tr>\n",
       "      <th>0.4-0.6</th>\n",
       "      <td>0.325235</td>\n",
       "      <td>0.315235</td>\n",
       "    </tr>\n",
       "    <tr>\n",
       "      <th>0.2-0.4</th>\n",
       "      <td>0.212413</td>\n",
       "      <td>0.212413</td>\n",
       "    </tr>\n",
       "    <tr>\n",
       "      <th>0.6-0.8</th>\n",
       "      <td>0.194300</td>\n",
       "      <td>0.214300</td>\n",
       "    </tr>\n",
       "    <tr>\n",
       "      <th>0.8-1.0</th>\n",
       "      <td>0.161184</td>\n",
       "      <td>0.171184</td>\n",
       "    </tr>\n",
       "    <tr>\n",
       "      <th>0-0.2</th>\n",
       "      <td>0.106868</td>\n",
       "      <td>0.086868</td>\n",
       "    </tr>\n",
       "  </tbody>\n",
       "</table>\n",
       "</div>"
      ],
      "text/plain": [
       "            confi  Hit-Ratio-confi\n",
       "0.4-0.6  0.325235         0.315235\n",
       "0.2-0.4  0.212413         0.212413\n",
       "0.6-0.8  0.194300         0.214300\n",
       "0.8-1.0  0.161184         0.171184\n",
       "0-0.2    0.106868         0.086868"
      ]
     },
     "execution_count": 13,
     "metadata": {},
     "output_type": "execute_result"
    }
   ],
   "source": [
    "bar_c0 # confi - without cluster, Hit-Ratio-confi - With cluster"
   ]
  },
  {
   "cell_type": "code",
   "execution_count": 14,
   "metadata": {},
   "outputs": [
    {
     "data": {
      "text/plain": [
       "<matplotlib.axes._subplots.AxesSubplot at 0x7f84aeb45b10>"
      ]
     },
     "execution_count": 14,
     "metadata": {},
     "output_type": "execute_result"
    },
    {
     "data": {
      "image/png": "[encoded data removed]",
      "text/plain": [
       "<Figure size 432x288 with 1 Axes>"
      ]
     },
     "metadata": {
      "needs_background": "light"
     },
     "output_type": "display_data"
    }
   ],
   "source": [
    "bar_c0['order'] = [3,2,4,5,1]\n",
    "bar_c0 = bar_c0.sort_values(by='order', ascending=True)\n",
    "bar_c0.drop('order', axis=1, inplace=True)\n",
    "bar_c0.plot(kind='bar', colormap='Dark2')"
   ]
  },
  {
   "cell_type": "code",
   "execution_count": 15,
   "metadata": {},
   "outputs": [
    {
     "data": {
      "text/plain": [
       "0.01999958613322972"
      ]
     },
     "execution_count": 15,
     "metadata": {},
     "output_type": "execute_result"
    }
   ],
   "source": [
    "bar_c0['diff'] = bar_c0['Hit-Ratio-confi'] -bar_c0['confi']\n",
    "bar_c0['diff'][2:].sum()"
   ]
  },
  {
   "cell_type": "markdown",
   "metadata": {},
   "source": [
    "### Hit Ratio Cluster1 - Loyal"
   ]
  },
  {
   "cell_type": "code",
   "execution_count": 16,
   "metadata": {},
   "outputs": [],
   "source": [
    "reco_c1= pd.merge(reco_c1,reco_all[['UserID', 'Hit-Ratio-confi']], on='UserID', how='left')"
   ]
  },
  {
   "cell_type": "code",
   "execution_count": 19,
   "metadata": {},
   "outputs": [],
   "source": [
    "bar_c1 = pd.merge(reco_c1['confi'].value_counts(normalize=True), reco_c1['Hit-Ratio-confi'].value_counts(normalize=True), left_index=True, right_index=True)"
   ]
  },
  {
   "cell_type": "code",
   "execution_count": 21,
   "metadata": {},
   "outputs": [
    {
     "data": {
      "text/html": [
       "<div>\n",
       "<style scoped>\n",
       "    .dataframe tbody tr th:only-of-type {\n",
       "        vertical-align: middle;\n",
       "    }\n",
       "\n",
       "    .dataframe tbody tr th {\n",
       "        vertical-align: top;\n",
       "    }\n",
       "\n",
       "    .dataframe thead th {\n",
       "        text-align: right;\n",
       "    }\n",
       "</style>\n",
       "<table border=\"1\" class=\"dataframe\">\n",
       "  <thead>\n",
       "    <tr style=\"text-align: right;\">\n",
       "      <th></th>\n",
       "      <th>confi</th>\n",
       "      <th>Hit-Ratio-confi</th>\n",
       "    </tr>\n",
       "  </thead>\n",
       "  <tbody>\n",
       "    <tr>\n",
       "      <th>0.4-0.6</th>\n",
       "      <td>0.335235</td>\n",
       "      <td>0.340216</td>\n",
       "    </tr>\n",
       "    <tr>\n",
       "      <th>0.2-0.4</th>\n",
       "      <td>0.252413</td>\n",
       "      <td>0.221787</td>\n",
       "    </tr>\n",
       "    <tr>\n",
       "      <th>0.6-0.8</th>\n",
       "      <td>0.213040</td>\n",
       "      <td>0.211839</td>\n",
       "    </tr>\n",
       "    <tr>\n",
       "      <th>0-0.2</th>\n",
       "      <td>0.161184</td>\n",
       "      <td>0.069184</td>\n",
       "    </tr>\n",
       "    <tr>\n",
       "      <th>0.8-1.0</th>\n",
       "      <td>0.146868</td>\n",
       "      <td>0.156975</td>\n",
       "    </tr>\n",
       "  </tbody>\n",
       "</table>\n",
       "</div>"
      ],
      "text/plain": [
       "            confi  Hit-Ratio-confi\n",
       "0.4-0.6  0.335235         0.340216\n",
       "0.2-0.4  0.252413         0.221787\n",
       "0.6-0.8  0.213040         0.211839\n",
       "0-0.2    0.161184         0.069184\n",
       "0.8-1.0  0.146868         0.156975"
      ]
     },
     "execution_count": 21,
     "metadata": {},
     "output_type": "execute_result"
    }
   ],
   "source": [
    "bar_c1 # confi - without cluster, Hit-Ratio-confi - With cluster"
   ]
  },
  {
   "cell_type": "code",
   "execution_count": 22,
   "metadata": {},
   "outputs": [
    {
     "data": {
      "text/plain": [
       "<matplotlib.axes._subplots.AxesSubplot at 0x7f84af0ccc10>"
      ]
     },
     "execution_count": 22,
     "metadata": {},
     "output_type": "execute_result"
    },
    {
     "data": {
      "image/png": "[encoded data removed]",
      "text/plain": [
       "<Figure size 432x288 with 1 Axes>"
      ]
     },
     "metadata": {
      "needs_background": "light"
     },
     "output_type": "display_data"
    }
   ],
   "source": [
    "bar_c1['order'] = [3,2,4,1,5]\n",
    "bar_c1 = bar_c1.sort_values(by='order', ascending=True)\n",
    "bar_c1.drop('order', axis=1, inplace=True)\n",
    "bar_c1.plot(kind='bar', colormap='Dark2')"
   ]
  },
  {
   "cell_type": "code",
   "execution_count": 23,
   "metadata": {},
   "outputs": [
    {
     "data": {
      "text/plain": [
       "0.013885847354618452"
      ]
     },
     "execution_count": 23,
     "metadata": {},
     "output_type": "execute_result"
    }
   ],
   "source": [
    "bar_c1['diff'] = bar_c1['Hit-Ratio-confi'] -bar_c1['confi']\n",
    "bar_c1['diff'][2:].sum()"
   ]
  },
  {
   "cell_type": "markdown",
   "metadata": {},
   "source": [
    "### Hit Ratio Cluster2 - Health Conscious"
   ]
  },
  {
   "cell_type": "code",
   "execution_count": 24,
   "metadata": {},
   "outputs": [],
   "source": [
    "reco_c2= pd.merge(reco_c2,reco_all[['UserID', 'Hit-Ratio-confi']], on='UserID', how='left')"
   ]
  },
  {
   "cell_type": "code",
   "execution_count": 27,
   "metadata": {},
   "outputs": [],
   "source": [
    "bar_c2 = pd.merge(reco_c2['confi'].value_counts(normalize=True), reco_c2['Hit-Ratio-confi'].value_counts(normalize=True), left_index=True, right_index=True)"
   ]
  },
  {
   "cell_type": "code",
   "execution_count": 29,
   "metadata": {},
   "outputs": [
    {
     "data": {
      "text/html": [
       "<div>\n",
       "<style scoped>\n",
       "    .dataframe tbody tr th:only-of-type {\n",
       "        vertical-align: middle;\n",
       "    }\n",
       "\n",
       "    .dataframe tbody tr th {\n",
       "        vertical-align: top;\n",
       "    }\n",
       "\n",
       "    .dataframe thead th {\n",
       "        text-align: right;\n",
       "    }\n",
       "</style>\n",
       "<table border=\"1\" class=\"dataframe\">\n",
       "  <thead>\n",
       "    <tr style=\"text-align: right;\">\n",
       "      <th></th>\n",
       "      <th>confi</th>\n",
       "      <th>Hit-Ratio-confi</th>\n",
       "    </tr>\n",
       "  </thead>\n",
       "  <tbody>\n",
       "    <tr>\n",
       "      <th>0-0.2</th>\n",
       "      <td>0.155235</td>\n",
       "      <td>0.074434</td>\n",
       "    </tr>\n",
       "    <tr>\n",
       "      <th>0.2-0.4</th>\n",
       "      <td>0.052413</td>\n",
       "      <td>0.110603</td>\n",
       "    </tr>\n",
       "    <tr>\n",
       "      <th>0.4-0.6</th>\n",
       "      <td>0.203040</td>\n",
       "      <td>0.198934</td>\n",
       "    </tr>\n",
       "    <tr>\n",
       "      <th>0.8-1.0</th>\n",
       "      <td>0.291184</td>\n",
       "      <td>0.426804</td>\n",
       "    </tr>\n",
       "    <tr>\n",
       "      <th>0.6-0.8</th>\n",
       "      <td>0.306868</td>\n",
       "      <td>0.189225</td>\n",
       "    </tr>\n",
       "  </tbody>\n",
       "</table>\n",
       "</div>"
      ],
      "text/plain": [
       "            confi  Hit-Ratio-confi\n",
       "0-0.2    0.155235         0.074434\n",
       "0.2-0.4  0.052413         0.110603\n",
       "0.4-0.6  0.203040         0.198934\n",
       "0.8-1.0  0.291184         0.426804\n",
       "0.6-0.8  0.306868         0.189225"
      ]
     },
     "execution_count": 29,
     "metadata": {},
     "output_type": "execute_result"
    }
   ],
   "source": [
    "bar_c2 # confi - without cluster, Hit-Ratio-confi - With cluster"
   ]
  },
  {
   "cell_type": "code",
   "execution_count": 30,
   "metadata": {},
   "outputs": [
    {
     "data": {
      "text/plain": [
       "<matplotlib.axes._subplots.AxesSubplot at 0x7f84a981cfd0>"
      ]
     },
     "execution_count": 30,
     "metadata": {},
     "output_type": "execute_result"
    },
    {
     "data": {
      "image/png": "[encoded data removed]",
      "text/plain": [
       "<Figure size 432x288 with 1 Axes>"
      ]
     },
     "metadata": {
      "needs_background": "light"
     },
     "output_type": "display_data"
    }
   ],
   "source": [
    "bar_c2['order'] = [1,2,3,5,4]\n",
    "bar_c2 = bar_c2.sort_values(by='order', ascending=True)\n",
    "bar_c2.drop('order', axis=1, inplace=True)\n",
    "bar_c2.plot(kind='bar', colormap='Dark2')"
   ]
  },
  {
   "cell_type": "code",
   "execution_count": 31,
   "metadata": {},
   "outputs": [
    {
     "data": {
      "text/plain": [
       "0.013870878355225602"
      ]
     },
     "execution_count": 31,
     "metadata": {},
     "output_type": "execute_result"
    }
   ],
   "source": [
    "bar_c2['diff'] = bar_c2['Hit-Ratio-confi'] -bar_c2['confi']\n",
    "bar_c2['diff'][2:].sum()"
   ]
  },
  {
   "cell_type": "markdown",
   "metadata": {},
   "source": [
    "### Hit Ratio Cluster3 - Occasional"
   ]
  },
  {
   "cell_type": "code",
   "execution_count": 32,
   "metadata": {},
   "outputs": [],
   "source": [
    "reco_c3= pd.merge(reco_c3,reco_all[['UserID', 'Hit-Ratio-confi']], on='UserID', how='left')"
   ]
  },
  {
   "cell_type": "code",
   "execution_count": 35,
   "metadata": {},
   "outputs": [],
   "source": [
    "bar_c3 = pd.merge(reco_c3['confi'].value_counts(normalize=True), reco_c3['Hit-Ratio-confi'].value_counts(normalize=True), left_index=True, right_index=True)"
   ]
  },
  {
   "cell_type": "code",
   "execution_count": 41,
   "metadata": {},
   "outputs": [
    {
     "data": {
      "text/html": [
       "<div>\n",
       "<style scoped>\n",
       "    .dataframe tbody tr th:only-of-type {\n",
       "        vertical-align: middle;\n",
       "    }\n",
       "\n",
       "    .dataframe tbody tr th {\n",
       "        vertical-align: top;\n",
       "    }\n",
       "\n",
       "    .dataframe thead th {\n",
       "        text-align: right;\n",
       "    }\n",
       "</style>\n",
       "<table border=\"1\" class=\"dataframe\">\n",
       "  <thead>\n",
       "    <tr style=\"text-align: right;\">\n",
       "      <th></th>\n",
       "      <th>confi</th>\n",
       "      <th>Hit-Ratio-confi</th>\n",
       "    </tr>\n",
       "  </thead>\n",
       "  <tbody>\n",
       "    <tr>\n",
       "      <th>0.4-0.6</th>\n",
       "      <td>0.302170</td>\n",
       "      <td>0.304513</td>\n",
       "    </tr>\n",
       "    <tr>\n",
       "      <th>0.2-0.4</th>\n",
       "      <td>0.242367</td>\n",
       "      <td>0.210816</td>\n",
       "    </tr>\n",
       "    <tr>\n",
       "      <th>0.6-0.8</th>\n",
       "      <td>0.204916</td>\n",
       "      <td>0.207923</td>\n",
       "    </tr>\n",
       "    <tr>\n",
       "      <th>0-0.2</th>\n",
       "      <td>0.090269</td>\n",
       "      <td>0.090269</td>\n",
       "    </tr>\n",
       "    <tr>\n",
       "      <th>0.8-1.0</th>\n",
       "      <td>0.181012</td>\n",
       "      <td>0.186480</td>\n",
       "    </tr>\n",
       "  </tbody>\n",
       "</table>\n",
       "</div>"
      ],
      "text/plain": [
       "            confi  Hit-Ratio-confi\n",
       "0.4-0.6  0.302170         0.304513\n",
       "0.2-0.4  0.242367         0.210816\n",
       "0.6-0.8  0.204916         0.207923\n",
       "0-0.2    0.090269         0.090269\n",
       "0.8-1.0  0.181012         0.186480"
      ]
     },
     "execution_count": 41,
     "metadata": {},
     "output_type": "execute_result"
    }
   ],
   "source": [
    "bar_c3 # confi - without cluster, Hit-Ratio-confi - With cluster"
   ]
  },
  {
   "cell_type": "code",
   "execution_count": 42,
   "metadata": {},
   "outputs": [
    {
     "data": {
      "text/plain": [
       "<matplotlib.axes._subplots.AxesSubplot at 0x7f84a973d310>"
      ]
     },
     "execution_count": 42,
     "metadata": {},
     "output_type": "execute_result"
    },
    {
     "data": {
      "image/png": "[encoded data removed]",
      "text/plain": [
       "<Figure size 432x288 with 1 Axes>"
      ]
     },
     "metadata": {
      "needs_background": "light"
     },
     "output_type": "display_data"
    }
   ],
   "source": [
    "bar_c3['order'] = [3,2,4,1,5]\n",
    "bar_c3 = bar_c3.sort_values(by='order', ascending=True)\n",
    "bar_c3.drop('order', axis=1, inplace=True)\n",
    "bar_c3.plot(kind='bar', colormap='Dark2')"
   ]
  },
  {
   "cell_type": "code",
   "execution_count": 43,
   "metadata": {},
   "outputs": [
    {
     "data": {
      "text/plain": [
       "0.010816915604547034"
      ]
     },
     "execution_count": 43,
     "metadata": {},
     "output_type": "execute_result"
    }
   ],
   "source": [
    "bar_c3['diff'] = bar_c3['Hit-Ratio-confi'] -bar_c3['confi']\n",
    "bar_c3['diff'][2:].sum()"
   ]
  },
  {
   "cell_type": "markdown",
   "metadata": {},
   "source": [
    "### Total Improvement across all clusters"
   ]
  },
  {
   "cell_type": "code",
   "execution_count": 49,
   "metadata": {},
   "outputs": [
    {
     "data": {
      "text/plain": [
       "0.05857322744762081"
      ]
     },
     "execution_count": 49,
     "metadata": {},
     "output_type": "execute_result"
    }
   ],
   "source": [
    "bar_c0['diff'][2:].sum()+bar_c1['diff'][2:].sum()+ bar_c2['diff'][2:].sum()+ bar_c3['diff'][2:].sum()"
   ]
  },
  {
   "cell_type": "markdown",
   "metadata": {},
   "source": [
    "### Total Improvement across targetes clusters"
   ]
  },
  {
   "cell_type": "code",
   "execution_count": 51,
   "metadata": {},
   "outputs": [
    {
     "data": {
      "text/plain": [
       "0.044687380093002355"
      ]
     },
     "execution_count": 51,
     "metadata": {},
     "output_type": "execute_result"
    }
   ],
   "source": [
    "bar_c0['diff'][2:].sum()+ bar_c2['diff'][2:].sum()+ bar_c3['diff'][2:].sum()"
   ]
  }
 ],
 "metadata": {
  "kernelspec": {
   "display_name": "Python 3",
   "language": "python",
   "name": "python3"
  },
  "language_info": {
   "codemirror_mode": {
    "name": "ipython",
    "version": 3
   },
   "file_extension": ".py",
   "mimetype": "text/x-python",
   "name": "python",
   "nbconvert_exporter": "python",
   "pygments_lexer": "ipython3",
   "version": "3.7.1"
  }
 },
 "nbformat": 4,
 "nbformat_minor": 4
}
