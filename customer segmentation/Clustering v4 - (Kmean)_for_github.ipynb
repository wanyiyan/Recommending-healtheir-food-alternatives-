{
 "cells": [
  {
   "cell_type": "code",
   "execution_count": 1,
   "metadata": {},
   "outputs": [],
   "source": [
    "import pandas as pd\n",
    "import numpy as np\n",
    "import seaborn as sns\n",
    "import matplotlib as mpl\n",
    "import matplotlib.pyplot as plt\n",
    "import sklearn\n",
    "from sklearn.utils import check_random_state\n",
    "from sklearn.cluster import KMeans\n",
    "from sklearn.preprocessing import StandardScaler,MinMaxScaler\n",
    "from sklearn.model_selection import train_test_split\n",
    "import missingno as msno\n",
    "import random\n",
    "from mpl_toolkits.mplot3d import Axes3D\n",
    "from sklearn.neighbors import NearestNeighbors\n",
    "from sklearn.cluster import DBSCAN\n",
    "import math\n",
    "from sklearn.manifold import TSNE\n",
    "from sklearn.ensemble import RandomForestRegressor\n",
    "import matplotlib.pyplot as plt\n",
    "from tqdm import tqdm\n",
    "from sklearn.metrics import silhouette_score\n",
    "from kcluster import KCluster, OverlappingCluster\n",
    "import copy"
   ]
  },
  {
   "cell_type": "markdown",
   "metadata": {},
   "source": [
    "# Load data\n"
   ]
  },
  {
   "cell_type": "code",
   "execution_count": 2,
   "metadata": {},
   "outputs": [],
   "source": [
    "data = pd.read_csv('C:/Users/wanyi/Desktop/Research Design/Clustering/Cust_agg_without_trend_Oct_7.csv', index_col = 0)"
   ]
  },
  {
   "cell_type": "code",
   "execution_count": 3,
   "metadata": {},
   "outputs": [
    {
     "data": {
      "text/html": [
       "<div>\n",
       "<style scoped>\n",
       "    .dataframe tbody tr th:only-of-type {\n",
       "        vertical-align: middle;\n",
       "    }\n",
       "\n",
       "    .dataframe tbody tr th {\n",
       "        vertical-align: top;\n",
       "    }\n",
       "\n",
       "    .dataframe thead th {\n",
       "        text-align: right;\n",
       "    }\n",
       "</style>\n",
       "<table border=\"1\" class=\"dataframe\">\n",
       "  <thead>\n",
       "    <tr style=\"text-align: right;\">\n",
       "      <th></th>\n",
       "      <th>user_id</th>\n",
       "      <th>days_since_prior_order</th>\n",
       "      <th>days_since_prior_order_median</th>\n",
       "      <th>order_number</th>\n",
       "      <th>nut_rel_price_ratio</th>\n",
       "      <th>order_dow_0</th>\n",
       "      <th>order_dow_1</th>\n",
       "      <th>order_dow_2</th>\n",
       "      <th>order_dow_3</th>\n",
       "      <th>order_dow_4</th>\n",
       "      <th>...</th>\n",
       "      <th>order_max_min</th>\n",
       "      <th>rel_price_basket_sum</th>\n",
       "      <th>rel_price_basket_mean</th>\n",
       "      <th>nut_score_basket_median</th>\n",
       "      <th>nut_score_basket_mean</th>\n",
       "      <th>nut_score_above_5</th>\n",
       "      <th>nut_rel_price_ratio_mean_per_customer</th>\n",
       "      <th>total_number_of_items_bought</th>\n",
       "      <th>number_of_unqiue_items_bought</th>\n",
       "      <th>%_of_repetition</th>\n",
       "    </tr>\n",
       "  </thead>\n",
       "  <tbody>\n",
       "    <tr>\n",
       "      <th>52656</th>\n",
       "      <td>52684</td>\n",
       "      <td>16.502732</td>\n",
       "      <td>19.0</td>\n",
       "      <td>16</td>\n",
       "      <td>114913.326654</td>\n",
       "      <td>11.0</td>\n",
       "      <td>77.0</td>\n",
       "      <td>26.0</td>\n",
       "      <td>44.0</td>\n",
       "      <td>0.0</td>\n",
       "      <td>...</td>\n",
       "      <td>2</td>\n",
       "      <td>14.693636</td>\n",
       "      <td>0.918352</td>\n",
       "      <td>5.458333</td>\n",
       "      <td>5.500993</td>\n",
       "      <td>119</td>\n",
       "      <td>627.941676</td>\n",
       "      <td>183.0</td>\n",
       "      <td>68</td>\n",
       "      <td>0.371585</td>\n",
       "    </tr>\n",
       "  </tbody>\n",
       "</table>\n",
       "<p>1 rows × 162 columns</p>\n",
       "</div>"
      ],
      "text/plain": [
       "       user_id  days_since_prior_order  days_since_prior_order_median  \\\n",
       "52656    52684               16.502732                           19.0   \n",
       "\n",
       "       order_number  nut_rel_price_ratio  order_dow_0  order_dow_1  \\\n",
       "52656            16        114913.326654         11.0         77.0   \n",
       "\n",
       "       order_dow_2  order_dow_3  order_dow_4  ...  order_max_min  \\\n",
       "52656         26.0         44.0          0.0  ...              2   \n",
       "\n",
       "       rel_price_basket_sum  rel_price_basket_mean  nut_score_basket_median  \\\n",
       "52656             14.693636               0.918352                 5.458333   \n",
       "\n",
       "       nut_score_basket_mean  nut_score_above_5  \\\n",
       "52656               5.500993                119   \n",
       "\n",
       "       nut_rel_price_ratio_mean_per_customer  total_number_of_items_bought  \\\n",
       "52656                             627.941676                         183.0   \n",
       "\n",
       "       number_of_unqiue_items_bought  %_of_repetition  \n",
       "52656                             68         0.371585  \n",
       "\n",
       "[1 rows x 162 columns]"
      ]
     },
     "execution_count": 3,
     "metadata": {},
     "output_type": "execute_result"
    }
   ],
   "source": [
    "data[data.user_id == 52684]"
   ]
  },
  {
   "cell_type": "code",
   "execution_count": 4,
   "metadata": {},
   "outputs": [
    {
     "data": {
      "text/plain": [
       "False"
      ]
     },
     "execution_count": 4,
     "metadata": {},
     "output_type": "execute_result"
    }
   ],
   "source": [
    "pd.set_option('display.max_rows', 200)\n",
    "data.isnull().any().any()"
   ]
  },
  {
   "cell_type": "code",
   "execution_count": 5,
   "metadata": {},
   "outputs": [
    {
     "data": {
      "text/plain": [
       "206094"
      ]
     },
     "execution_count": 5,
     "metadata": {},
     "output_type": "execute_result"
    }
   ],
   "source": [
    "len(sorted(set(data.user_id))) #206123"
   ]
  },
  {
   "cell_type": "markdown",
   "metadata": {},
   "source": [
    "# feature engingeering add-on"
   ]
  },
  {
   "cell_type": "code",
   "execution_count": 7,
   "metadata": {},
   "outputs": [
    {
     "data": {
      "text/plain": [
       "'\\ndata[\"weekend_purchases\"] = data.order_dow_0 + data.order_dow_6\\ndata[\"weekday_purchases\"] = data.order_dow_1 + data.order_dow_2 + data.order_dow_3 + data.order_dow_4 + data.order_dow_5\\n\\n# Three periods of shopping time \\ndata[\"cold_hour_purchases\"] = data.order_hour_of_day_21 + data.order_hour_of_day_22 + data.order_hour_of_day_23 + data.order_hour_of_day_0 + data.order_hour_of_day_1 + data.order_hour_of_day_2 + data.order_hour_of_day_3 + data.order_hour_of_day_4 +data.order_hour_of_day_5+data.order_hour_of_day_6+data.order_hour_of_day_7\\ndata[\"hot_hour_purchases\"]  = data.order_hour_of_day_8 + data.order_hour_of_day_9 + data.order_hour_of_day_10 + data.order_hour_of_day_11 + data.order_hour_of_day_12 + data.order_hour_of_day_13 + data.order_hour_of_day_14 + data.order_hour_of_day_15 + data.order_hour_of_day_16 + data.order_hour_of_day_17 + data.order_hour_of_day_18 + data.order_hour_of_day_19 + data.order_hour_of_day_20\\n'"
      ]
     },
     "execution_count": 7,
     "metadata": {},
     "output_type": "execute_result"
    }
   ],
   "source": [
    "# Weekend vs non-weekend shopping \n",
    "'''\n",
    "data[\"weekend_purchases\"] = data.order_dow_0 + data.order_dow_6\n",
    "data[\"weekday_purchases\"] = data.order_dow_1 + data.order_dow_2 + data.order_dow_3 + data.order_dow_4 + data.order_dow_5\n",
    "\n",
    "# Three periods of shopping time \n",
    "data[\"cold_hour_purchases\"] = data.order_hour_of_day_21 + data.order_hour_of_day_22 + data.order_hour_of_day_23 + data.order_hour_of_day_0 + data.order_hour_of_day_1 + data.order_hour_of_day_2 + data.order_hour_of_day_3 + data.order_hour_of_day_4 +data.order_hour_of_day_5+data.order_hour_of_day_6+data.order_hour_of_day_7\n",
    "data[\"hot_hour_purchases\"]  = data.order_hour_of_day_8 + data.order_hour_of_day_9 + data.order_hour_of_day_10 + data.order_hour_of_day_11 + data.order_hour_of_day_12 + data.order_hour_of_day_13 + data.order_hour_of_day_14 + data.order_hour_of_day_15 + data.order_hour_of_day_16 + data.order_hour_of_day_17 + data.order_hour_of_day_18 + data.order_hour_of_day_19 + data.order_hour_of_day_20\n",
    "'''"
   ]
  },
  {
   "cell_type": "code",
   "execution_count": 6,
   "metadata": {},
   "outputs": [
    {
     "name": "stdout",
     "output_type": "stream",
     "text": [
      "7\n"
     ]
    },
    {
     "data": {
      "text/plain": [
       "'\\ncols_for_clustering_kcluster = [\"days_since_prior_order_median\",\"order_number\",\"total_number_of_items_bought\",\\n                      \"nut_score_basket_median\",\"nut_score_trend_Q1_Q2_Q3_Q4\",\"nut_score_basket_median\",\"rel_price_basket_sum\"]\\nprint(len(cols_for_clustering_kcluster))\\n'"
      ]
     },
     "execution_count": 6,
     "metadata": {},
     "output_type": "execute_result"
    }
   ],
   "source": [
    "#### To add prices ####\n",
    "#cols_for_clustering_kmean = [\"days_since_prior_order_median\",\"order_number\",\"total_number_of_items_bought\",\"%_of_repetition\",\n",
    "                       #\"Q1_scr_list\",\"Q2_scr_list\",\"Q3_scr_list\",\"Q4_scr_list\",\"nut_score_basket_median\",\"price_basket_sum\",\"price_basket_median\"]\n",
    "                       #\"order_max_mean\",\"number_of_unqiue_items_bought\",\"weekend_purchases\",\"weekday_purchases\",\"hot_hour_purchases\",\"cold_hour_purchases\"]\n",
    "cols_for_clustering_kmean = [\"days_since_prior_order_median\",\"order_number\",\"total_number_of_items_bought\",\"%_of_repetition\",\n",
    "                              \"nut_score_basket_median\",\"rel_price_basket_sum\",\"nut_rel_price_ratio_mean_per_customer\"] ###James to change to rel_price\n",
    "                             #,\"rel_price_basket_mean\",\"nut_score_above_5_percent\"] --> not good differentiator \n",
    "                       \n",
    "print(len(cols_for_clustering_kmean))\n",
    "'''\n",
    "cols_for_clustering_kcluster = [\"days_since_prior_order_median\",\"order_number\",\"total_number_of_items_bought\",\n",
    "                      \"nut_score_basket_median\",\"nut_score_trend_Q1_Q2_Q3_Q4\",\"nut_score_basket_median\",\"rel_price_basket_sum\"]\n",
    "print(len(cols_for_clustering_kcluster))\n",
    "'''\n",
    "#data_clustering = pd.get_dummies(data= data_clustering, columns=[\"nut_score_trend_Q1_Q2_Q3_Q4\"])"
   ]
  },
  {
   "cell_type": "code",
   "execution_count": 7,
   "metadata": {},
   "outputs": [
    {
     "data": {
      "text/plain": [
       "<matplotlib.axes._subplots.AxesSubplot at 0x25455a2e710>"
      ]
     },
     "execution_count": 7,
     "metadata": {},
     "output_type": "execute_result"
    },
    {
     "data": {
      "image/png": "[encoded data removed]",
      "text/plain": [
       "<Figure size 432x288 with 2 Axes>"
      ]
     },
     "metadata": {
      "needs_background": "light"
     },
     "output_type": "display_data"
    }
   ],
   "source": [
    "c = data[cols_for_clustering_kmean]\n",
    "a = c.corr()\n",
    "sns.heatmap(a,annot=True)"
   ]
  },
  {
   "cell_type": "code",
   "execution_count": 8,
   "metadata": {},
   "outputs": [],
   "source": [
    "cols_for_clustering_kmean = [\"days_since_prior_order_median\",\"rel_price_basket_sum\",\"nut_rel_price_ratio_mean_per_customer\"] # \"nut_score_basket_median\",\n",
    "#\"total_number_of_items_bought\",\"order_number\" removed b/c of similarity with rel_price_basket_sum"
   ]
  },
  {
   "cell_type": "code",
   "execution_count": 9,
   "metadata": {},
   "outputs": [
    {
     "data": {
      "text/plain": [
       "<matplotlib.axes._subplots.AxesSubplot at 0x2545c306588>"
      ]
     },
     "execution_count": 9,
     "metadata": {},
     "output_type": "execute_result"
    },
    {
     "data": {
      "image/png": "[encoded data removed]",
      "text/plain": [
       "<Figure size 432x288 with 2 Axes>"
      ]
     },
     "metadata": {
      "needs_background": "light"
     },
     "output_type": "display_data"
    }
   ],
   "source": [
    "c = data[cols_for_clustering_kmean]\n",
    "a = c.corr()\n",
    "sns.heatmap(a,annot=True)"
   ]
  },
  {
   "cell_type": "code",
   "execution_count": 10,
   "metadata": {},
   "outputs": [
    {
     "name": "stdout",
     "output_type": "stream",
     "text": [
      "(144266, 162) (61827, 162)\n"
     ]
    }
   ],
   "source": [
    "df = data.sample(frac=1).reset_index(drop=True)\n",
    "x_train = df[:round(df.shape[0]*0.7)]\n",
    "x_test  = df[round(df.shape[0]*0.7)+1:]\n",
    "print(x_train.shape, x_test.shape)"
   ]
  },
  {
   "cell_type": "code",
   "execution_count": 11,
   "metadata": {},
   "outputs": [],
   "source": [
    "x_train_kmean = x_train.loc[:,cols_for_clustering_kmean]\n",
    "x_test_kmean = x_test.loc[:,cols_for_clustering_kmean]\n",
    "#x_train_kcluster = x_train.loc[:,cols_for_clustering_kcluster]\n",
    "#x_test_kcluster = x_test.loc[:,cols_for_clustering_kcluster]"
   ]
  },
  {
   "cell_type": "markdown",
   "metadata": {},
   "source": [
    "# Method 1: K-means"
   ]
  },
  {
   "cell_type": "markdown",
   "metadata": {},
   "source": [
    "###  Scaling - to unscale back "
   ]
  },
  {
   "cell_type": "code",
   "execution_count": 12,
   "metadata": {},
   "outputs": [],
   "source": [
    "SS = StandardScaler().fit(x_train_kmean)\n",
    "MMS = MinMaxScaler().fit(x_train_kmean)\n",
    "train_kmean = SS.transform(x_train_kmean)\n",
    "test_kmean  = SS.transform(x_test_kmean)\n",
    "#SS.inverse_transform(train_kmean)"
   ]
  },
  {
   "cell_type": "markdown",
   "metadata": {},
   "source": [
    "# PCA (Don't run)"
   ]
  },
  {
   "cell_type": "code",
   "execution_count": 27,
   "metadata": {},
   "outputs": [
    {
     "data": {
      "text/plain": [
       "\"\\nfrom sklearn.decomposition import PCA \\npca_model = PCA() \\npca_model.fit(train_kmean)\\n\\n#pca_transformed is an array \\npca_transformed = pca_model.transform(train_kmean)\\nplt.plot(pca_model.explained_variance_ratio_,'-o')\\n\\na = np.dot(pca_transformed,pca_model.components_)\\nprint(a.shape)\\na\\n\\nb = train_kmean\\nprint(b.shape)\\nb\\n\\nloadings = pd.DataFrame(pca_model.components_.T, columns=['PC1', 'PC2','PC3','PC4','PC5','PC6','PC7','PC8','PC9','PC10','PC11'], \\n                                                          index=cols_for_clustering_kmean)\\nloadings\\n\\nloadings = pca_model.components_.T * np.sqrt(pca_model.explained_variance_)\\nloading_matrix = pd.DataFrame(loadings, columns=['PC1', 'PC2','PC3','PC4','PC5','PC6','PC7','PC8','PC9','PC10','PC11'], \\n                                                          index=cols_for_clustering_kmean)\\nloading_matrix\\n\""
      ]
     },
     "execution_count": 27,
     "metadata": {},
     "output_type": "execute_result"
    }
   ],
   "source": [
    "'''\n",
    "from sklearn.decomposition import PCA \n",
    "pca_model = PCA() \n",
    "pca_model.fit(train_kmean)\n",
    "\n",
    "#pca_transformed is an array \n",
    "pca_transformed = pca_model.transform(train_kmean)\n",
    "plt.plot(pca_model.explained_variance_ratio_,'-o')\n",
    "\n",
    "a = np.dot(pca_transformed,pca_model.components_)\n",
    "print(a.shape)\n",
    "a\n",
    "\n",
    "b = train_kmean\n",
    "print(b.shape)\n",
    "b\n",
    "\n",
    "loadings = pd.DataFrame(pca_model.components_.T, columns=['PC1', 'PC2','PC3','PC4','PC5','PC6','PC7','PC8','PC9','PC10','PC11'], \n",
    "                                                          index=cols_for_clustering_kmean)\n",
    "loadings\n",
    "\n",
    "loadings = pca_model.components_.T * np.sqrt(pca_model.explained_variance_)\n",
    "loading_matrix = pd.DataFrame(loadings, columns=['PC1', 'PC2','PC3','PC4','PC5','PC6','PC7','PC8','PC9','PC10','PC11'], \n",
    "                                                          index=cols_for_clustering_kmean)\n",
    "loading_matrix\n",
    "'''"
   ]
  },
  {
   "cell_type": "markdown",
   "metadata": {},
   "source": [
    "# K-means over Scaled data"
   ]
  },
  {
   "cell_type": "code",
   "execution_count": 42,
   "metadata": {},
   "outputs": [
    {
     "data": {
      "image/png": "[encoded data removed]",
      "text/plain": [
       "<Figure size 432x288 with 1 Axes>"
      ]
     },
     "metadata": {
      "needs_background": "light"
     },
     "output_type": "display_data"
    }
   ],
   "source": [
    "#Finding the number of cluster using the elbow rule \n",
    "ks = range(1,10) \n",
    "inertias = []\n",
    "for k in ks:\n",
    "    model = KMeans(n_clusters=k,n_init = 30, random_state = 2020)\n",
    "    model.fit(train_kmean)\n",
    "    inertias.append(model.inertia_)\n",
    "\n",
    "plt.plot(ks, inertias, '-o')\n",
    "plt.xlabel('number of clusters, k')\n",
    "plt.ylabel('inertia')\n",
    "plt.xticks()\n",
    "plt.show()"
   ]
  },
  {
   "cell_type": "code",
   "execution_count": 13,
   "metadata": {},
   "outputs": [],
   "source": [
    "#Interpretation of the inertia graph \n",
    "#Based on the graph, inertia started to slowly change less and less at N=4. As such, we take N=3 as the \"Elbow\" or optimal number of cluster\n",
    "#Finding the clustering label \n",
    "model_kmean = KMeans(n_clusters = 4,n_init = 20, random_state = 2020)\n",
    "labels_train_kmean = model_kmean.fit_predict(train_kmean)"
   ]
  },
  {
   "cell_type": "code",
   "execution_count": 14,
   "metadata": {},
   "outputs": [
    {
     "name": "stderr",
     "output_type": "stream",
     "text": [
      " 25%|████████████████████▊                                                              | 1/4 [05:57<17:52, 357.62s/it]"
     ]
    },
    {
     "name": "stdout",
     "output_type": "stream",
     "text": [
      "when n = 3 sil_score is = 0.4101390479040686\n"
     ]
    },
    {
     "name": "stderr",
     "output_type": "stream",
     "text": [
      "\r",
      " 50%|█████████████████████████████████████████▌                                         | 2/4 [12:25<12:13, 366.70s/it]"
     ]
    },
    {
     "name": "stdout",
     "output_type": "stream",
     "text": [
      "when n = 4 sil_score is = 0.4319983585308116\n"
     ]
    },
    {
     "name": "stderr",
     "output_type": "stream",
     "text": [
      "\r",
      " 75%|██████████████████████████████████████████████████████████████▎                    | 3/4 [19:02<06:15, 375.66s/it]"
     ]
    },
    {
     "name": "stdout",
     "output_type": "stream",
     "text": [
      "when n = 5 sil_score is = 0.40320720292736073\n"
     ]
    },
    {
     "name": "stderr",
     "output_type": "stream",
     "text": [
      "100%|███████████████████████████████████████████████████████████████████████████████████| 4/4 [25:13<00:00, 378.27s/it]"
     ]
    },
    {
     "name": "stdout",
     "output_type": "stream",
     "text": [
      "when n = 6 sil_score is = 0.386452086803037\n"
     ]
    },
    {
     "name": "stderr",
     "output_type": "stream",
     "text": [
      "\n"
     ]
    }
   ],
   "source": [
    "# Model Evaluation using Silhoette_score:\n",
    "\n",
    "for i in tqdm(range(3,7)):\n",
    "    model_train_n = KMeans(n_clusters = i,n_init = 10, random_state = 2020)\n",
    "    labels_train_n = model_train_n.fit_predict(train_kmean)\n",
    "    sht_score_n = silhouette_score(train_kmean, labels_train_n)\n",
    "    print(\"when n =\",i , \"sil_score is =\", sht_score_n )\n"
   ]
  },
  {
   "cell_type": "code",
   "execution_count": 16,
   "metadata": {},
   "outputs": [
    {
     "data": {
      "text/plain": [
       "Text(0.5, 0, 'Customer Segments')"
      ]
     },
     "execution_count": 16,
     "metadata": {},
     "output_type": "execute_result"
    },
    {
     "data": {
      "image/png": "[encoded data removed]",
      "text/plain": [
       "<Figure size 432x288 with 1 Axes>"
      ]
     },
     "metadata": {
      "needs_background": "light"
     },
     "output_type": "display_data"
    }
   ],
   "source": [
    "label_train_series = pd.Series(labels_train_kmean).value_counts()\n",
    "count_table = label_train_series.to_frame().reset_index()\n",
    "count_table.rename(columns = {\"index\":\"label\",0:\"count\"},inplace = True)\n",
    "count_table.plot.bar(x='label', y='count', rot=0)\n",
    "plt.title(\"Counts of customer in each segments\")\n",
    "plt.xlabel(\"Customer Segments\")"
   ]
  },
  {
   "cell_type": "code",
   "execution_count": 18,
   "metadata": {},
   "outputs": [
    {
     "data": {
      "text/html": [
       "<div>\n",
       "<style scoped>\n",
       "    .dataframe tbody tr th:only-of-type {\n",
       "        vertical-align: middle;\n",
       "    }\n",
       "\n",
       "    .dataframe tbody tr th {\n",
       "        vertical-align: top;\n",
       "    }\n",
       "\n",
       "    .dataframe thead th {\n",
       "        text-align: right;\n",
       "    }\n",
       "</style>\n",
       "<table border=\"1\" class=\"dataframe\">\n",
       "  <thead>\n",
       "    <tr style=\"text-align: right;\">\n",
       "      <th></th>\n",
       "      <th>label</th>\n",
       "      <th>count</th>\n",
       "    </tr>\n",
       "  </thead>\n",
       "  <tbody>\n",
       "    <tr>\n",
       "      <th>0</th>\n",
       "      <td>0</td>\n",
       "      <td>86637</td>\n",
       "    </tr>\n",
       "    <tr>\n",
       "      <th>1</th>\n",
       "      <td>3</td>\n",
       "      <td>38951</td>\n",
       "    </tr>\n",
       "    <tr>\n",
       "      <th>2</th>\n",
       "      <td>1</td>\n",
       "      <td>13911</td>\n",
       "    </tr>\n",
       "    <tr>\n",
       "      <th>3</th>\n",
       "      <td>2</td>\n",
       "      <td>4767</td>\n",
       "    </tr>\n",
       "  </tbody>\n",
       "</table>\n",
       "</div>"
      ],
      "text/plain": [
       "   label  count\n",
       "0      0  86637\n",
       "1      3  38951\n",
       "2      1  13911\n",
       "3      2   4767"
      ]
     },
     "execution_count": 18,
     "metadata": {},
     "output_type": "execute_result"
    }
   ],
   "source": [
    "count_table"
   ]
  },
  {
   "cell_type": "code",
   "execution_count": 19,
   "metadata": {},
   "outputs": [
    {
     "data": {
      "text/html": [
       "<div>\n",
       "<style scoped>\n",
       "    .dataframe tbody tr th:only-of-type {\n",
       "        vertical-align: middle;\n",
       "    }\n",
       "\n",
       "    .dataframe tbody tr th {\n",
       "        vertical-align: top;\n",
       "    }\n",
       "\n",
       "    .dataframe thead th {\n",
       "        text-align: right;\n",
       "    }\n",
       "</style>\n",
       "<table border=\"1\" class=\"dataframe\">\n",
       "  <thead>\n",
       "    <tr style=\"text-align: right;\">\n",
       "      <th></th>\n",
       "      <th>days_since_prior_order_median</th>\n",
       "      <th>rel_price_basket_sum</th>\n",
       "      <th>nut_rel_price_ratio_mean_per_customer</th>\n",
       "    </tr>\n",
       "  </thead>\n",
       "  <tbody>\n",
       "    <tr>\n",
       "      <th>0</th>\n",
       "      <td>-0.508903</td>\n",
       "      <td>-0.170308</td>\n",
       "      <td>-0.116504</td>\n",
       "    </tr>\n",
       "    <tr>\n",
       "      <th>1</th>\n",
       "      <td>-0.800071</td>\n",
       "      <td>2.449760</td>\n",
       "      <td>-0.177406</td>\n",
       "    </tr>\n",
       "    <tr>\n",
       "      <th>2</th>\n",
       "      <td>0.172085</td>\n",
       "      <td>-0.570707</td>\n",
       "      <td>3.754640</td>\n",
       "    </tr>\n",
       "    <tr>\n",
       "      <th>3</th>\n",
       "      <td>1.398371</td>\n",
       "      <td>-0.427614</td>\n",
       "      <td>-0.135416</td>\n",
       "    </tr>\n",
       "  </tbody>\n",
       "</table>\n",
       "</div>"
      ],
      "text/plain": [
       "   days_since_prior_order_median  rel_price_basket_sum  \\\n",
       "0                      -0.508903             -0.170308   \n",
       "1                      -0.800071              2.449760   \n",
       "2                       0.172085             -0.570707   \n",
       "3                       1.398371             -0.427614   \n",
       "\n",
       "   nut_rel_price_ratio_mean_per_customer  \n",
       "0                              -0.116504  \n",
       "1                              -0.177406  \n",
       "2                               3.754640  \n",
       "3                              -0.135416  "
      ]
     },
     "execution_count": 19,
     "metadata": {},
     "output_type": "execute_result"
    }
   ],
   "source": [
    "centroid_train_kmean = model_kmean.cluster_centers_ \n",
    "centroid_table_train_kmean = pd.DataFrame(centroid_train_kmean, columns = cols_for_clustering_kmean)\n",
    "centroid_table_train_kmean"
   ]
  },
  {
   "cell_type": "code",
   "execution_count": 20,
   "metadata": {},
   "outputs": [
    {
     "data": {
      "text/html": [
       "<div>\n",
       "<style scoped>\n",
       "    .dataframe tbody tr th:only-of-type {\n",
       "        vertical-align: middle;\n",
       "    }\n",
       "\n",
       "    .dataframe tbody tr th {\n",
       "        vertical-align: top;\n",
       "    }\n",
       "\n",
       "    .dataframe thead th {\n",
       "        text-align: right;\n",
       "    }\n",
       "</style>\n",
       "<table border=\"1\" class=\"dataframe\">\n",
       "  <thead>\n",
       "    <tr style=\"text-align: right;\">\n",
       "      <th></th>\n",
       "      <th>days_since_prior_order_median</th>\n",
       "      <th>rel_price_basket_sum</th>\n",
       "      <th>nut_rel_price_ratio_mean_per_customer</th>\n",
       "    </tr>\n",
       "  </thead>\n",
       "  <tbody>\n",
       "    <tr>\n",
       "      <th>0</th>\n",
       "      <td>9.157178</td>\n",
       "      <td>9.560389</td>\n",
       "      <td>575.800399</td>\n",
       "    </tr>\n",
       "    <tr>\n",
       "      <th>1</th>\n",
       "      <td>6.646560</td>\n",
       "      <td>51.041262</td>\n",
       "      <td>548.683509</td>\n",
       "    </tr>\n",
       "    <tr>\n",
       "      <th>2</th>\n",
       "      <td>15.029047</td>\n",
       "      <td>3.221287</td>\n",
       "      <td>2299.449897</td>\n",
       "    </tr>\n",
       "    <tr>\n",
       "      <th>3</th>\n",
       "      <td>25.602780</td>\n",
       "      <td>5.486733</td>\n",
       "      <td>567.380011</td>\n",
       "    </tr>\n",
       "  </tbody>\n",
       "</table>\n",
       "</div>"
      ],
      "text/plain": [
       "   days_since_prior_order_median  rel_price_basket_sum  \\\n",
       "0                       9.157178              9.560389   \n",
       "1                       6.646560             51.041262   \n",
       "2                      15.029047              3.221287   \n",
       "3                      25.602780              5.486733   \n",
       "\n",
       "   nut_rel_price_ratio_mean_per_customer  \n",
       "0                             575.800399  \n",
       "1                             548.683509  \n",
       "2                            2299.449897  \n",
       "3                             567.380011  "
      ]
     },
     "execution_count": 20,
     "metadata": {},
     "output_type": "execute_result"
    }
   ],
   "source": [
    "centroid_table_train_kmean = pd.DataFrame(SS.inverse_transform(centroid_train_kmean), columns = cols_for_clustering_kmean)\n",
    "centroid_table_train_kmean"
   ]
  },
  {
   "cell_type": "code",
   "execution_count": null,
   "metadata": {},
   "outputs": [],
   "source": [
    "#FAMILY? SINGLE? OLD/YOUNG people\n",
    "\n",
    "# This is the explanation:\n",
    "\n",
    "#type 1     : least frequent buyer, most money spent, lowest number of items, less healthier \n",
    "#type 2 name:  \n",
    "\n",
    "#type 0     : moderate frequent buyer, most healthy, modersate high rel_price\n",
    "#type 0 name:  \n",
    "\n",
    "#type 3     : moderate frequent buyer, lower total number bought, low rel_price \n",
    "#type 3 name: lest frequent, low budeget, less unhealthy buyer \n",
    "\n",
    "#type 2     : most frequent weekly, largest total number of items and orders, healthy, spend the most, least repetitive \n",
    "#type 2 name: high frequent, healthier customers "
   ]
  },
  {
   "cell_type": "code",
   "execution_count": null,
   "metadata": {},
   "outputs": [],
   "source": [
    "train_3D_plot = pd.DataFrame(train_kmean, columns = cols_for_clustering_kmean)\n",
    "train_3D_plot[\"customer_type\"] = labels_train_kmean\n",
    "\n",
    "#cols_for_clustering_kmean = [\"days_since_prior_order_median\",\"order_number\",\"total_number_of_items_bought\",\"%_of_repetition\",\n",
    "                              #\"nut_score_basket_median\",\"rel_price_basket_sum\",\"rel_price_basket_mean\"]\n",
    "\n",
    "\n",
    "import plotly.express as px\n",
    "fig_train = px.scatter_3d(train_3D_plot, x='nut_rel_price_ratio_mean_per_customer', y='days_since_prior_order_median', z='rel_price_basket_sum',\n",
    "              color='customer_type')\n",
    "fig_train.show()"
   ]
  },
  {
   "cell_type": "markdown",
   "metadata": {},
   "source": [
    "## Validation"
   ]
  },
  {
   "cell_type": "code",
   "execution_count": 15,
   "metadata": {},
   "outputs": [
    {
     "name": "stdout",
     "output_type": "stream",
     "text": [
      "[3 0 3 ... 3 0 1]\n",
      "61827\n"
     ]
    }
   ],
   "source": [
    "labels_test_kmean = model_kmean.fit_predict(test_kmean)\n",
    "print(labels_test_kmean)\n",
    "print(len(labels_test_kmean))"
   ]
  },
  {
   "cell_type": "code",
   "execution_count": 19,
   "metadata": {},
   "outputs": [
    {
     "data": {
      "text/plain": [
       "3    37234\n",
       "0    16659\n",
       "1     5877\n",
       "2     2057\n",
       "dtype: int64"
      ]
     },
     "execution_count": 19,
     "metadata": {},
     "output_type": "execute_result"
    }
   ],
   "source": [
    "pd.Series(labels_test_kmean).value_counts()"
   ]
  },
  {
   "cell_type": "code",
   "execution_count": 23,
   "metadata": {},
   "outputs": [
    {
     "data": {
      "text/html": [
       "<div>\n",
       "<style scoped>\n",
       "    .dataframe tbody tr th:only-of-type {\n",
       "        vertical-align: middle;\n",
       "    }\n",
       "\n",
       "    .dataframe tbody tr th {\n",
       "        vertical-align: top;\n",
       "    }\n",
       "\n",
       "    .dataframe thead th {\n",
       "        text-align: right;\n",
       "    }\n",
       "</style>\n",
       "<table border=\"1\" class=\"dataframe\">\n",
       "  <thead>\n",
       "    <tr style=\"text-align: right;\">\n",
       "      <th></th>\n",
       "      <th>days_since_prior_order_median</th>\n",
       "      <th>rel_price_basket_sum</th>\n",
       "      <th>nut_rel_price_ratio_mean_per_customer</th>\n",
       "    </tr>\n",
       "  </thead>\n",
       "  <tbody>\n",
       "    <tr>\n",
       "      <th>0</th>\n",
       "      <td>-0.810292</td>\n",
       "      <td>2.417480</td>\n",
       "      <td>-0.175214</td>\n",
       "    </tr>\n",
       "    <tr>\n",
       "      <th>1</th>\n",
       "      <td>1.399733</td>\n",
       "      <td>-0.428231</td>\n",
       "      <td>-0.131258</td>\n",
       "    </tr>\n",
       "    <tr>\n",
       "      <th>2</th>\n",
       "      <td>0.106684</td>\n",
       "      <td>-0.547833</td>\n",
       "      <td>3.569312</td>\n",
       "    </tr>\n",
       "    <tr>\n",
       "      <th>3</th>\n",
       "      <td>-0.508259</td>\n",
       "      <td>-0.174376</td>\n",
       "      <td>-0.126749</td>\n",
       "    </tr>\n",
       "  </tbody>\n",
       "</table>\n",
       "</div>"
      ],
      "text/plain": [
       "   days_since_prior_order_median  rel_price_basket_sum  \\\n",
       "0                      -0.810292              2.417480   \n",
       "1                       1.399733             -0.428231   \n",
       "2                       0.106684             -0.547833   \n",
       "3                      -0.508259             -0.174376   \n",
       "\n",
       "   nut_rel_price_ratio_mean_per_customer  \n",
       "0                              -0.175214  \n",
       "1                              -0.131258  \n",
       "2                               3.569312  \n",
       "3                              -0.126749  "
      ]
     },
     "execution_count": 23,
     "metadata": {},
     "output_type": "execute_result"
    }
   ],
   "source": [
    "centroid_test_kmean = model_kmean.cluster_centers_ \n",
    "centroid_table_test_kmean = pd.DataFrame(centroid_test_kmean, columns = cols_for_clustering_kmean)\n",
    "centroid_table_test_kmean"
   ]
  },
  {
   "cell_type": "code",
   "execution_count": 24,
   "metadata": {},
   "outputs": [
    {
     "data": {
      "text/html": [
       "<div>\n",
       "<style scoped>\n",
       "    .dataframe tbody tr th:only-of-type {\n",
       "        vertical-align: middle;\n",
       "    }\n",
       "\n",
       "    .dataframe tbody tr th {\n",
       "        vertical-align: top;\n",
       "    }\n",
       "\n",
       "    .dataframe thead th {\n",
       "        text-align: right;\n",
       "    }\n",
       "</style>\n",
       "<table border=\"1\" class=\"dataframe\">\n",
       "  <thead>\n",
       "    <tr style=\"text-align: right;\">\n",
       "      <th></th>\n",
       "      <th>days_since_prior_order_median</th>\n",
       "      <th>rel_price_basket_sum</th>\n",
       "      <th>nut_rel_price_ratio_mean_per_customer</th>\n",
       "    </tr>\n",
       "  </thead>\n",
       "  <tbody>\n",
       "    <tr>\n",
       "      <th>0</th>\n",
       "      <td>6.558434</td>\n",
       "      <td>50.530198</td>\n",
       "      <td>549.659697</td>\n",
       "    </tr>\n",
       "    <tr>\n",
       "      <th>1</th>\n",
       "      <td>25.614524</td>\n",
       "      <td>5.476956</td>\n",
       "      <td>569.231342</td>\n",
       "    </tr>\n",
       "    <tr>\n",
       "      <th>2</th>\n",
       "      <td>14.465116</td>\n",
       "      <td>3.583424</td>\n",
       "      <td>2216.931507</td>\n",
       "    </tr>\n",
       "    <tr>\n",
       "      <th>3</th>\n",
       "      <td>9.162728</td>\n",
       "      <td>9.495994</td>\n",
       "      <td>571.239024</td>\n",
       "    </tr>\n",
       "  </tbody>\n",
       "</table>\n",
       "</div>"
      ],
      "text/plain": [
       "   days_since_prior_order_median  rel_price_basket_sum  \\\n",
       "0                       6.558434             50.530198   \n",
       "1                      25.614524              5.476956   \n",
       "2                      14.465116              3.583424   \n",
       "3                       9.162728              9.495994   \n",
       "\n",
       "   nut_rel_price_ratio_mean_per_customer  \n",
       "0                             549.659697  \n",
       "1                             569.231342  \n",
       "2                            2216.931507  \n",
       "3                             571.239024  "
      ]
     },
     "execution_count": 24,
     "metadata": {},
     "output_type": "execute_result"
    }
   ],
   "source": [
    "centroid_table_test_kmean = pd.DataFrame(SS.inverse_transform(centroid_test_kmean), columns = cols_for_clustering_kmean)\n",
    "centroid_table_test_kmean"
   ]
  },
  {
   "cell_type": "code",
   "execution_count": null,
   "metadata": {},
   "outputs": [],
   "source": [
    "test_3D_plot_test = pd.DataFrame(test_kmean, columns = cols_for_clustering_kmean)\n",
    "test_3D_plot_test[\"customer_type\"] = labels_test_kmean\n",
    "\n",
    "import plotly.express as pxrel_\n",
    "fig_test = px.scatter_3d(test_3D_plot_test, x='nut_rel_price_ratio_mean_per_customer', y='days_since_prior_order_median', z='rel_price_basket_sum',\n",
    "              color='customer_type')\n",
    "fig_test.show()"
   ]
  },
  {
   "cell_type": "code",
   "execution_count": 27,
   "metadata": {},
   "outputs": [
    {
     "name": "stdout",
     "output_type": "stream",
     "text": [
      "Type0 centroid moved by percentage [ 0.00126468 -0.02388275 -0.0879315 ]\n",
      "Type1 centroid moved by percentage [-0.0127744   0.01317701  0.01235821]\n",
      "Type2 centroid moved by percentage [0.38005362 0.04007967 0.04935974]\n",
      "Type3 centroid moved by percentage [-0.00097402 -0.00144424  0.03070476]\n"
     ]
    }
   ],
   "source": [
    "diff0 = (centroid_train_kmean[0]- centroid_test_kmean[3])/centroid_train_kmean[0] # this has a significant change in the centroid\n",
    "diff1 = (centroid_train_kmean[1]- centroid_test_kmean[0])/centroid_train_kmean[1]\n",
    "diff2 = (centroid_train_kmean[2]- centroid_test_kmean[2])/centroid_train_kmean[2]\n",
    "diff3 = (centroid_train_kmean[3]- centroid_test_kmean[1])/centroid_train_kmean[3]\n",
    "\n",
    "print(\"Type0 centroid moved by percentage\",diff0)\n",
    "print(\"Type1 centroid moved by percentage\",diff1)\n",
    "print(\"Type2 centroid moved by percentage\",diff2)\n",
    "print(\"Type3 centroid moved by percentage\",diff3)"
   ]
  },
  {
   "cell_type": "markdown",
   "metadata": {},
   "source": [
    "# Append labels back to original Dataframe"
   ]
  },
  {
   "cell_type": "code",
   "execution_count": 34,
   "metadata": {},
   "outputs": [
    {
     "name": "stdout",
     "output_type": "stream",
     "text": [
      "train_rows: 144266 test_rows: 61827\n"
     ]
    }
   ],
   "source": [
    "print(\"train_rows:\", len(labels_train_kmean),\"test_rows:\",len(labels_test_kmean))"
   ]
  },
  {
   "cell_type": "code",
   "execution_count": 35,
   "metadata": {},
   "outputs": [
    {
     "name": "stderr",
     "output_type": "stream",
     "text": [
      "C:\\Users\\wanyi\\Anaconda3\\lib\\site-packages\\ipykernel_launcher.py:2: SettingWithCopyWarning:\n",
      "\n",
      "\n",
      "A value is trying to be set on a copy of a slice from a DataFrame.\n",
      "Try using .loc[row_indexer,col_indexer] = value instead\n",
      "\n",
      "See the caveats in the documentation: https://pandas.pydata.org/pandas-docs/stable/user_guide/indexing.html#returning-a-view-versus-a-copy\n",
      "\n",
      "C:\\Users\\wanyi\\Anaconda3\\lib\\site-packages\\ipykernel_launcher.py:6: SettingWithCopyWarning:\n",
      "\n",
      "\n",
      "A value is trying to be set on a copy of a slice from a DataFrame.\n",
      "Try using .loc[row_indexer,col_indexer] = value instead\n",
      "\n",
      "See the caveats in the documentation: https://pandas.pydata.org/pandas-docs/stable/user_guide/indexing.html#returning-a-view-versus-a-copy\n",
      "\n"
     ]
    }
   ],
   "source": [
    "#cols_merged = cols_for_clustering_kmean + [\"kmean_cust_type\"]\n",
    "x_train[\"kmean_cust_type\"] = labels_train_kmean\n",
    "df_kmean_train = copy.deepcopy(x_train)\n",
    "df_kmean_train\n",
    "\n",
    "x_test[\"kmean_cust_type\"] = labels_test_kmean\n",
    "df_kmean_test = copy.deepcopy(x_test)\n",
    "df_kmean_test\n",
    "\n",
    "mergerd_df_kmean = pd.concat([df_kmean_train,df_kmean_test])\n",
    "#mergerd_df_kmean.sort_values(by=['user_id'],inplace = True)\n",
    "#mergerd_df_kmean = mergerd_df_kmean.reset_index()"
   ]
  },
  {
   "cell_type": "code",
   "execution_count": 38,
   "metadata": {},
   "outputs": [
    {
     "data": {
      "text/plain": [
       "206209"
      ]
     },
     "execution_count": 38,
     "metadata": {},
     "output_type": "execute_result"
    }
   ],
   "source": [
    "sorted(set(mergerd_df_kmean.user_id))[-1]"
   ]
  },
  {
   "cell_type": "code",
   "execution_count": 39,
   "metadata": {},
   "outputs": [],
   "source": [
    "mergerd_df_kmean.to_csv(\"C:/Users/wanyi/Desktop/Research Design/Clustering/Cust_agg_without_trend_Oct_7_labelled.csv\")"
   ]
  },
  {
   "cell_type": "markdown",
   "metadata": {},
   "source": [
    "# Examine 20k user clusters"
   ]
  },
  {
   "cell_type": "code",
   "execution_count": 5,
   "metadata": {},
   "outputs": [],
   "source": [
    "import pandas as pd\n",
    "\n",
    "labelled_user = pd.read_csv(\"C:/Users/wanyi/Desktop/Research Design/Clustering/Cust_agg_without_trend_Oct_7_labelled.csv\",usecols= [\"user_id\",\"kmean_cust_type\"])\n",
    "#two_thousands_user = pd.read_csv(\"C:/Users/wanyi/Desktop/Research Design/Clustering/20kusers_new.csv\")\n",
    "#two_thousands_user = pd.read_csv(\"C:/Users/wanyi/Desktop/Research Design/Clustering/valid_5k_basket4.csv\")"
   ]
  },
  {
   "cell_type": "code",
   "execution_count": 6,
   "metadata": {},
   "outputs": [
    {
     "data": {
      "text/html": [
       "<div>\n",
       "<style scoped>\n",
       "    .dataframe tbody tr th:only-of-type {\n",
       "        vertical-align: middle;\n",
       "    }\n",
       "\n",
       "    .dataframe tbody tr th {\n",
       "        vertical-align: top;\n",
       "    }\n",
       "\n",
       "    .dataframe thead th {\n",
       "        text-align: right;\n",
       "    }\n",
       "</style>\n",
       "<table border=\"1\" class=\"dataframe\">\n",
       "  <thead>\n",
       "    <tr style=\"text-align: right;\">\n",
       "      <th></th>\n",
       "      <th>user_id</th>\n",
       "      <th>kmean_cust_type</th>\n",
       "    </tr>\n",
       "  </thead>\n",
       "  <tbody>\n",
       "  </tbody>\n",
       "</table>\n",
       "</div>"
      ],
      "text/plain": [
       "Empty DataFrame\n",
       "Columns: [user_id, kmean_cust_type]\n",
       "Index: []"
      ]
     },
     "execution_count": 6,
     "metadata": {},
     "output_type": "execute_result"
    }
   ],
   "source": [
    "labelled_user[labelled_user.user_id == 52684]"
   ]
  },
  {
   "cell_type": "code",
   "execution_count": 57,
   "metadata": {},
   "outputs": [
    {
     "data": {
      "text/html": [
       "<div>\n",
       "<style scoped>\n",
       "    .dataframe tbody tr th:only-of-type {\n",
       "        vertical-align: middle;\n",
       "    }\n",
       "\n",
       "    .dataframe tbody tr th {\n",
       "        vertical-align: top;\n",
       "    }\n",
       "\n",
       "    .dataframe thead th {\n",
       "        text-align: right;\n",
       "    }\n",
       "</style>\n",
       "<table border=\"1\" class=\"dataframe\">\n",
       "  <thead>\n",
       "    <tr style=\"text-align: right;\">\n",
       "      <th></th>\n",
       "      <th>user_id</th>\n",
       "      <th>kmean_cust_type</th>\n",
       "    </tr>\n",
       "  </thead>\n",
       "  <tbody>\n",
       "    <tr>\n",
       "      <th>164647</th>\n",
       "      <td>1</td>\n",
       "      <td>1</td>\n",
       "    </tr>\n",
       "    <tr>\n",
       "      <th>66063</th>\n",
       "      <td>2</td>\n",
       "      <td>0</td>\n",
       "    </tr>\n",
       "    <tr>\n",
       "      <th>12615</th>\n",
       "      <td>3</td>\n",
       "      <td>0</td>\n",
       "    </tr>\n",
       "    <tr>\n",
       "      <th>195762</th>\n",
       "      <td>4</td>\n",
       "      <td>1</td>\n",
       "    </tr>\n",
       "    <tr>\n",
       "      <th>40763</th>\n",
       "      <td>5</td>\n",
       "      <td>0</td>\n",
       "    </tr>\n",
       "    <tr>\n",
       "      <th>...</th>\n",
       "      <td>...</td>\n",
       "      <td>...</td>\n",
       "    </tr>\n",
       "    <tr>\n",
       "      <th>122775</th>\n",
       "      <td>206205</td>\n",
       "      <td>0</td>\n",
       "    </tr>\n",
       "    <tr>\n",
       "      <th>189509</th>\n",
       "      <td>206206</td>\n",
       "      <td>3</td>\n",
       "    </tr>\n",
       "    <tr>\n",
       "      <th>185083</th>\n",
       "      <td>206207</td>\n",
       "      <td>3</td>\n",
       "    </tr>\n",
       "    <tr>\n",
       "      <th>152985</th>\n",
       "      <td>206208</td>\n",
       "      <td>0</td>\n",
       "    </tr>\n",
       "    <tr>\n",
       "      <th>199089</th>\n",
       "      <td>206209</td>\n",
       "      <td>2</td>\n",
       "    </tr>\n",
       "  </tbody>\n",
       "</table>\n",
       "<p>206093 rows × 2 columns</p>\n",
       "</div>"
      ],
      "text/plain": [
       "        user_id  kmean_cust_type\n",
       "164647        1                1\n",
       "66063         2                0\n",
       "12615         3                0\n",
       "195762        4                1\n",
       "40763         5                0\n",
       "...         ...              ...\n",
       "122775   206205                0\n",
       "189509   206206                3\n",
       "185083   206207                3\n",
       "152985   206208                0\n",
       "199089   206209                2\n",
       "\n",
       "[206093 rows x 2 columns]"
      ]
     },
     "execution_count": 57,
     "metadata": {},
     "output_type": "execute_result"
    }
   ],
   "source": [
    "labelled_user.sort_values(\"user_id\")"
   ]
  },
  {
   "cell_type": "code",
   "execution_count": 60,
   "metadata": {},
   "outputs": [],
   "source": [
    "df_merge = pd.merge(two_thousands_user,labelled_user,on=\"user_id\",how = \"left\")"
   ]
  },
  {
   "cell_type": "code",
   "execution_count": 61,
   "metadata": {},
   "outputs": [
    {
     "data": {
      "text/plain": [
       "0.0    2414\n",
       "3.0    1776\n",
       "1.0     728\n",
       "2.0     178\n",
       "Name: kmean_cust_type, dtype: int64"
      ]
     },
     "execution_count": 61,
     "metadata": {},
     "output_type": "execute_result"
    }
   ],
   "source": [
    "df_merge.kmean_cust_type.value_counts()"
   ]
  },
  {
   "cell_type": "code",
   "execution_count": 62,
   "metadata": {},
   "outputs": [],
   "source": [
    "df_merge.to_csv(\"C:/Users/wanyi/Desktop/Research Design/Clustering/Reshma_validation_5k_labelled.csv\")"
   ]
  },
  {
   "cell_type": "code",
   "execution_count": null,
   "metadata": {},
   "outputs": [],
   "source": []
  },
  {
   "cell_type": "code",
   "execution_count": null,
   "metadata": {},
   "outputs": [],
   "source": []
  },
  {
   "cell_type": "code",
   "execution_count": null,
   "metadata": {},
   "outputs": [],
   "source": []
  },
  {
   "cell_type": "code",
   "execution_count": null,
   "metadata": {},
   "outputs": [],
   "source": [
    "value_count_table = mergerd_df_kmean[[\"nut_score_trend_Q1_Q2_Q3_Q4\",\"kmean_cust_type\"]]\n",
    "value_count_table"
   ]
  },
  {
   "cell_type": "code",
   "execution_count": null,
   "metadata": {},
   "outputs": [],
   "source": [
    "def plot_distribution(df):\n",
    "    val_count = df.nut_score_trend_Q1_Q2_Q3_Q4.value_counts()\n",
    "    count_table = pd.DataFrame(val_count).reset_index()\n",
    "    print(\"Ratio down/fixed:\", count_table.iloc[1,1]/count_table.iloc[0,1])\n",
    "    print(\"Ratio up/fixed:\", count_table.iloc[2,1]/count_table.iloc[0,1])\n",
    "    count_table.rename(columns = {\"index\":\"label\",\"nut_score_trend_Q1_Q2_Q3_Q4\":\"count\"},inplace = True)\n",
    "    count_table.plot.bar(x='label', y='count', rot=0)"
   ]
  },
  {
   "cell_type": "code",
   "execution_count": null,
   "metadata": {},
   "outputs": [],
   "source": [
    "df_cust0 = value_count_table[value_count_table.kmean_cust_type == 0]\n",
    "df_cust1 = value_count_table[value_count_table.kmean_cust_type == 1]\n",
    "df_cust2 = value_count_table[value_count_table.kmean_cust_type == 2]\n",
    "df_cust3 = value_count_table[value_count_table.kmean_cust_type == 3]\n",
    "df_list = [df_cust0,df_cust1,df_cust2,df_cust3]"
   ]
  },
  {
   "cell_type": "code",
   "execution_count": null,
   "metadata": {},
   "outputs": [],
   "source": [
    "for i in df_list:\n",
    "    plot_distribution(i)"
   ]
  },
  {
   "cell_type": "code",
   "execution_count": null,
   "metadata": {},
   "outputs": [],
   "source": [
    "mergerd_df_kmean"
   ]
  },
  {
   "cell_type": "code",
   "execution_count": null,
   "metadata": {},
   "outputs": [],
   "source": [
    "label_map_kmean = mergerd_df_kmean[[\"user_id\",\"kmean_cust_type\"]]\n",
    "label_map_kmean"
   ]
  },
  {
   "cell_type": "markdown",
   "metadata": {},
   "source": [
    "# ......................................... End of K-mean ........................................."
   ]
  },
  {
   "cell_type": "code",
   "execution_count": null,
   "metadata": {},
   "outputs": [],
   "source": []
  },
  {
   "cell_type": "markdown",
   "metadata": {},
   "source": [
    "# Method 2: K-cluster"
   ]
  },
  {
   "cell_type": "code",
   "execution_count": null,
   "metadata": {},
   "outputs": [],
   "source": [
    "cols_for_clustering_kcluster"
   ]
  },
  {
   "cell_type": "code",
   "execution_count": null,
   "metadata": {},
   "outputs": [],
   "source": [
    "train_kcluster = copy.deepcopy(x_train_kcluster)\n",
    "test_kcluster  = copy.deepcopy(x_test_kcluster)\n",
    "\n",
    "# K-means over PCA/Scaled data\n",
    "\n",
    "'''\n",
    "#Finding the number of cluster using the elbow rule \n",
    "ks = range(1,15) \n",
    "inertias = []\n",
    "for k in ks:\n",
    "    model = KCluster(n_clusters=k,n_init = 20,random_state = 2020)\n",
    "    model.fit(train_kcluster)\n",
    "    inertias.append(model.inertia_)\n",
    "\n",
    "plt.plot(ks, inertias, '-o')\n",
    "plt.xlabel('number of clusters, k')\n",
    "plt.ylabel('inertia')\n",
    "plt.xticks()\n",
    "plt.show()\n",
    "''' "
   ]
  },
  {
   "cell_type": "code",
   "execution_count": null,
   "metadata": {},
   "outputs": [],
   "source": [
    "#Interpretation of the inertia graph \n",
    "#Based on the graph, inertia started to slowly change less and less at N=4. As such, we take N=4 as the \"Elbow\" or optimal number of cluster\n",
    "#Finding the clustering label \n",
    "model_kcluster = KCluster(n_clusters = 4,n_init = 20)\n",
    "'''\n",
    "for i in tqdm(range(2,5)):\n",
    "    model_train_n = KMeans(n_clusters = i,n_init = 20, random_state = 2020)\n",
    "    labels_train_n = model_train_n.fit_predict(train_kmean)\n",
    "    sht_score_n = silhouette_score(train_kmean, labels_train_n)\n",
    "    print(\"when n =\",i , \"sil_score is =\", sht_score_n )\n",
    "'''\n"
   ]
  },
  {
   "cell_type": "code",
   "execution_count": null,
   "metadata": {},
   "outputs": [],
   "source": [
    "model_kcluster.fit(train_kcluster)\n",
    "labels_train_kcluster = model_kcluster.predict(train_kcluster)"
   ]
  },
  {
   "cell_type": "code",
   "execution_count": null,
   "metadata": {},
   "outputs": [],
   "source": [
    "labels_train_kcluster = copy.deepcopy(labels_train_kcluster[0].tolist())\n",
    "label_train_series_cluster = pd.Series(labels_train_kcluster).value_counts()\n",
    "count_table = label_train_series_cluster.to_frame().reset_index()\n",
    "count_table.rename(columns = {\"index\":\"label\",0:\"count\"},inplace = True)\n",
    "count_table.plot.bar(x='label', y='count', rot=0)"
   ]
  },
  {
   "cell_type": "code",
   "execution_count": null,
   "metadata": {},
   "outputs": [],
   "source": [
    "centroid_train_kcluster = model_kcluster.cluster_centers_ \n",
    "centroid_train_kcluster"
   ]
  },
  {
   "cell_type": "code",
   "execution_count": null,
   "metadata": {},
   "outputs": [],
   "source": [
    "centroid_train_kcluster = model_kcluster.cluster_centers_ \n",
    "centroid_table_train_kcluster = pd.DataFrame(centroid_train_kcluster, columns = cols_for_clustering_kcluster)\n"
   ]
  },
  {
   "cell_type": "code",
   "execution_count": null,
   "metadata": {},
   "outputs": [],
   "source": [
    "# This is the explanation before adding 1) price 2) weekday vs weekend 3) hot/cold hours purchases. \n",
    "\n",
    "#type 0: most frequent buyer, lots of order, 2nd largest number of items, highly repetitive, no too healthy in middle, in general not too healthy\n",
    "#type 1: least frequent buyer, least order of item, least reptitive, 2nd healthy \n",
    "#type 2: 2nd most frequent buyer,  least total number, moderate reptition, most healthy\n",
    "#type 3: 2nd most frequent buyer,  2nd most order, most total number, moderate reptition, moderate healthy\n",
    "#type 4: 2nd least frequent buyer,  moderate order number, least total number, moderate reptition, worst healthy"
   ]
  },
  {
   "cell_type": "code",
   "execution_count": null,
   "metadata": {},
   "outputs": [],
   "source": [
    "train_3D_plot = pd.DataFrame(train_kcluster, columns = cols_for_clustering_kcluster)\n",
    "train_3D_plot[\"customer_type\"] = labels_train_kcluster\n",
    "\n",
    "import plotly.express as px\n",
    "fig_train = px.scatter_3d(train_3D_plot, x='nut_score_basket_median', y='rel_price_basket_sum', z='days_since_prior_order_median',\n",
    "              color='customer_type')\n",
    "fig_train.show()\n"
   ]
  },
  {
   "cell_type": "code",
   "execution_count": null,
   "metadata": {},
   "outputs": [],
   "source": []
  },
  {
   "cell_type": "code",
   "execution_count": null,
   "metadata": {},
   "outputs": [],
   "source": []
  },
  {
   "cell_type": "markdown",
   "metadata": {},
   "source": [
    "## Validation"
   ]
  },
  {
   "cell_type": "code",
   "execution_count": null,
   "metadata": {},
   "outputs": [],
   "source": [
    "labels_test_cluster = model_kcluster.fit(test_kcluster).predict(test_kcluster)\n",
    "print(labels_test_cluster)"
   ]
  },
  {
   "cell_type": "code",
   "execution_count": null,
   "metadata": {},
   "outputs": [],
   "source": [
    "centroid_test_kcluster = model_kcluster.cluster_centers_ \n",
    "centroid_table_test_kcluster = pd.DataFrame(centroid_test, columns = cols_for_clustering_kcluster)\n",
    "centroid_table_test_kcluster"
   ]
  },
  {
   "cell_type": "code",
   "execution_count": null,
   "metadata": {},
   "outputs": [],
   "source": [
    "test_3D_plot_test = pd.DataFrame(test_kcluster, columns = cols_for_clustering_kcluster)\n",
    "test_3D_plot_test[\"customer_type\"] = labels_test_kcluster\n",
    "\n",
    "import plotly.express as px\n",
    "fig_test = px.scatter_3d(test_3D_plot_test, x='nut_score_basket_median', y='Q4_scr_list', z='days_since_prior_order_median',\n",
    "              color='customer_type')\n",
    "fig_test.show()\n",
    "\n"
   ]
  },
  {
   "cell_type": "code",
   "execution_count": null,
   "metadata": {},
   "outputs": [],
   "source": [
    "diff0 = (centroid_train_kcluster[0]- centroid_test_kcluster[2])/centroid_train_kcluster[0] # this has a significant change in the centroid\n",
    "diff1 = (centroid_train_kcluster[1]- centroid_test_kcluster[0])/centroid_train_kcluster[1]\n",
    "diff2 = (centroid_train_kcluster[2]- centroid_test_kcluster[3])/centroid_train_kcluster[2]\n",
    "diff3 = (centroid_train_kcluster[3]- centroid_test_kcluster[1])/centroid_train_kcluster[3]\n",
    "\n",
    "print(\"Type0 centroid moved by percentage\",diff0)\n",
    "print(\"Type1 centroid moved by percentage\",diff1)\n",
    "print(\"Type2 centroid moved by percentage\",diff2)\n",
    "print(\"Type3 centroid moved by percentage\",diff3)"
   ]
  },
  {
   "cell_type": "code",
   "execution_count": null,
   "metadata": {},
   "outputs": [],
   "source": []
  },
  {
   "cell_type": "code",
   "execution_count": null,
   "metadata": {},
   "outputs": [],
   "source": []
  },
  {
   "cell_type": "code",
   "execution_count": null,
   "metadata": {},
   "outputs": [],
   "source": []
  },
  {
   "cell_type": "code",
   "execution_count": null,
   "metadata": {},
   "outputs": [],
   "source": []
  },
  {
   "cell_type": "code",
   "execution_count": null,
   "metadata": {},
   "outputs": [],
   "source": []
  },
  {
   "cell_type": "code",
   "execution_count": null,
   "metadata": {},
   "outputs": [],
   "source": []
  },
  {
   "cell_type": "code",
   "execution_count": null,
   "metadata": {},
   "outputs": [],
   "source": []
  },
  {
   "cell_type": "code",
   "execution_count": null,
   "metadata": {},
   "outputs": [],
   "source": []
  },
  {
   "cell_type": "code",
   "execution_count": null,
   "metadata": {},
   "outputs": [],
   "source": []
  },
  {
   "cell_type": "code",
   "execution_count": null,
   "metadata": {},
   "outputs": [],
   "source": []
  },
  {
   "cell_type": "code",
   "execution_count": null,
   "metadata": {},
   "outputs": [],
   "source": []
  },
  {
   "cell_type": "code",
   "execution_count": null,
   "metadata": {},
   "outputs": [],
   "source": []
  },
  {
   "cell_type": "code",
   "execution_count": null,
   "metadata": {},
   "outputs": [],
   "source": []
  },
  {
   "cell_type": "code",
   "execution_count": null,
   "metadata": {},
   "outputs": [],
   "source": []
  },
  {
   "cell_type": "code",
   "execution_count": null,
   "metadata": {},
   "outputs": [],
   "source": []
  },
  {
   "cell_type": "code",
   "execution_count": null,
   "metadata": {},
   "outputs": [],
   "source": []
  },
  {
   "cell_type": "code",
   "execution_count": null,
   "metadata": {},
   "outputs": [],
   "source": []
  },
  {
   "cell_type": "code",
   "execution_count": null,
   "metadata": {},
   "outputs": [],
   "source": []
  },
  {
   "cell_type": "code",
   "execution_count": null,
   "metadata": {},
   "outputs": [],
   "source": []
  },
  {
   "cell_type": "code",
   "execution_count": null,
   "metadata": {},
   "outputs": [],
   "source": []
  },
  {
   "cell_type": "code",
   "execution_count": null,
   "metadata": {},
   "outputs": [],
   "source": []
  },
  {
   "cell_type": "code",
   "execution_count": null,
   "metadata": {},
   "outputs": [],
   "source": []
  },
  {
   "cell_type": "code",
   "execution_count": null,
   "metadata": {},
   "outputs": [],
   "source": []
  },
  {
   "cell_type": "code",
   "execution_count": null,
   "metadata": {},
   "outputs": [],
   "source": []
  },
  {
   "cell_type": "code",
   "execution_count": null,
   "metadata": {},
   "outputs": [],
   "source": []
  },
  {
   "cell_type": "code",
   "execution_count": null,
   "metadata": {},
   "outputs": [],
   "source": []
  },
  {
   "cell_type": "code",
   "execution_count": null,
   "metadata": {},
   "outputs": [],
   "source": []
  },
  {
   "cell_type": "code",
   "execution_count": null,
   "metadata": {},
   "outputs": [],
   "source": []
  },
  {
   "cell_type": "code",
   "execution_count": null,
   "metadata": {},
   "outputs": [],
   "source": []
  },
  {
   "cell_type": "markdown",
   "metadata": {},
   "source": [
    "# Feature importance "
   ]
  },
  {
   "cell_type": "code",
   "execution_count": null,
   "metadata": {},
   "outputs": [],
   "source": [
    "xtrain = data.\n",
    "\n",
    "clf=RandomForestRegressor()\n",
    "clf.fit(xtrain, ytrain)\n",
    "importantscores=dict(zip(xtrain.columns,clf.feature_importances_))\n",
    "x = importantscores\n",
    "import matplotlib.pyplot as plt\n",
    "plot={k: v for k, v in sorted(x.items(), key=lambda item: item[1])[::-1]}\n",
    "\n",
    "plt.rcParams[\"figure.figsize\"] = (30,5)\n",
    "feature=list(plot.keys())[:3]\n",
    "importance=list(plot.values())[:3]\n",
    "plt.bar(feature, importance)\n",
    "plt.xlabel('Variable')\n",
    "plt.ylabel('Importance')\n",
    "plt.title('Variable Importance')\n",
    "\n",
    "plt.show()"
   ]
  },
  {
   "cell_type": "code",
   "execution_count": null,
   "metadata": {},
   "outputs": [],
   "source": []
  },
  {
   "cell_type": "markdown",
   "metadata": {},
   "source": [
    "# DBSCAN over PCA/Scaled data"
   ]
  },
  {
   "cell_type": "code",
   "execution_count": null,
   "metadata": {},
   "outputs": [],
   "source": []
  },
  {
   "cell_type": "code",
   "execution_count": null,
   "metadata": {},
   "outputs": [],
   "source": []
  },
  {
   "cell_type": "code",
   "execution_count": null,
   "metadata": {},
   "outputs": [],
   "source": []
  },
  {
   "cell_type": "code",
   "execution_count": null,
   "metadata": {},
   "outputs": [],
   "source": []
  },
  {
   "cell_type": "code",
   "execution_count": null,
   "metadata": {},
   "outputs": [],
   "source": [
    "#Determine epsilon \n",
    "nbrs = NearestNeighbors(n_neighbors = round(math.log(len(train)))).fit(train)\n",
    "distances, indices = nbrs.kneighbors(train)\n",
    "distances = np.sort(distances, axis=0)\n",
    "distances = distances[:,1]\n",
    "plt.plot(distances)"
   ]
  },
  {
   "cell_type": "code",
   "execution_count": null,
   "metadata": {},
   "outputs": [],
   "source": [
    "from sklearn.cluster import DBSCAN\n",
    "\n",
    "dbsc = DBSCAN(eps = 0.3 , min_samples = np.log(train.shape[0])).fit(train)\n",
    "#For number of min_samples, I used ln(n), where n is the total number of points to be clustered per Utku's Canvas annoucement \n",
    "# For eps, I used 0.3 based on estimation in the following code block below. \n",
    "labels_dbsc = dbsc.labels_\n",
    "core_samples = np.zeros_like(labels_dbsc, dtype = bool)\n",
    "core_samples[dbsc.core_sample_indices_] = True\n",
    "\n",
    "unique_labels = np.unique(labels_dbsc)\n",
    "print(unique_labels)\n",
    "colors = plt.cm.Spectral(np.linspace(0,1, len(unique_labels)))\n",
    "for (label, color) in zip(unique_labels, colors):\n",
    "    class_member_mask = (labels == label)\n",
    "    xy = train[class_member_mask & core_samples]\n",
    "    plt.plot(xy[:,3],xy[:,2], 'o', markerfacecolor = color, markersize = 10)\n",
    "    \n",
    "    xy2 = train[class_member_mask & ~core_samples]\n",
    "    plt.plot(xy2[:,3],xy2[:,2], 'o', markerfacecolor = color, markersize = 10)\n",
    "plt.title(\"DBSCAN on train_data_scaled\")\n",
    "plt.xlabel(\"PC1\")\n",
    "plt.ylabel(\"PC2\")\n",
    "plt.legend(unique_labels)"
   ]
  },
  {
   "cell_type": "code",
   "execution_count": null,
   "metadata": {},
   "outputs": [],
   "source": []
  },
  {
   "cell_type": "code",
   "execution_count": null,
   "metadata": {},
   "outputs": [],
   "source": []
  },
  {
   "cell_type": "code",
   "execution_count": null,
   "metadata": {},
   "outputs": [],
   "source": []
  },
  {
   "cell_type": "markdown",
   "metadata": {},
   "source": [
    "# t-SNE"
   ]
  },
  {
   "cell_type": "code",
   "execution_count": null,
   "metadata": {},
   "outputs": [],
   "source": [
    "model = TSNE(learning_rate = 100, perplexity=math.sqrt(train_data_Tsne.shape[1]) )\n",
    "Tsne_transformed = model.fit_transform(pca_transform)\n"
   ]
  },
  {
   "cell_type": "code",
   "execution_count": null,
   "metadata": {},
   "outputs": [],
   "source": [
    "xs = Tsne_transformed[:,0]\n",
    "ys = Tsne_transformed[:,1]\n",
    "plt.scatter(xs,ys, alpha=0.5)\n",
    "for x, y, customer in zip(xs, ys, customer_id):\n",
    "    plt.annotate(customer, (x, y), fontsize=10, alpha=0.75)\n",
    "plt.show()\n",
    "plt.figure(figsize = (60,60))"
   ]
  },
  {
   "cell_type": "code",
   "execution_count": null,
   "metadata": {},
   "outputs": [],
   "source": [
    "y = df2.TransactionRevenue\n",
    "x = df2.visitNumber\n",
    "plt.scatter(x, y)\n",
    "\n"
   ]
  },
  {
   "cell_type": "code",
   "execution_count": null,
   "metadata": {},
   "outputs": [],
   "source": [
    "df_revenue_pageview_hit = df2.iloc[:,1:4]\n",
    "\n",
    "corr = df_revenue_pageview_hit.corr(method ='pearson') \n",
    "import matplotlib.pyplot as plt\n",
    "sns.set(style=\"white\")\n",
    "\n",
    "# Set up the matplotlib figure\n",
    "f, ax = plt.subplots(figsize=(11, 9))\n",
    "\n",
    "# Generate a mask for the upper triangle\n",
    "mask = np.zeros_like(corr, dtype=np.bool)\n",
    "mask[np.triu_indices_from(mask)] = True\n",
    "\n",
    "# Generate a custom diverging colormap\n",
    "cmap = sns.diverging_palette(220, 10, as_cmap=True)\n",
    "\n",
    "# Draw the heatmap with the mask and correct aspect ratio\n",
    "sns.heatmap(corr, mask=mask, cmap=cmap, vmax=.9, center=0,\n",
    "            square=True, linewidths=.5, cbar_kws={\"shrink\": .5}, annot = True)"
   ]
  }
 ],
 "metadata": {
  "kernelspec": {
   "display_name": "Python 3",
   "language": "python",
   "name": "python3"
  },
  "language_info": {
   "codemirror_mode": {
    "name": "ipython",
    "version": 3
   },
   "file_extension": ".py",
   "mimetype": "text/x-python",
   "name": "python",
   "nbconvert_exporter": "python",
   "pygments_lexer": "ipython3",
   "version": "3.7.3"
  }
 },
 "nbformat": 4,
 "nbformat_minor": 2
}
