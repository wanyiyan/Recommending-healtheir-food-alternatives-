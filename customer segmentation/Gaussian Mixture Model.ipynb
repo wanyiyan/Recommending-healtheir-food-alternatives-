{
 "cells": [
  {
   "cell_type": "markdown",
   "metadata": {},
   "source": [
    "#### Author: Rameez\n",
    "\n",
    "Instacart dataset : Instacart product file - 49688 unique products which inlcude non food items too"
   ]
  },
  {
   "cell_type": "code",
   "execution_count": null,
   "metadata": {},
   "outputs": [],
   "source": [
    "import pandas as pd\n",
    "import numpy as np\n",
    "import seaborn as sns\n",
    "import matplotlib as mpl\n",
    "import matplotlib.pyplot as plt\n",
    "import sklearn\n",
    "from sklearn.utils import check_random_state\n",
    "from sklearn.cluster import KMeans\n",
    "from sklearn.mixture import GaussianMixture\n",
    "from sklearn.preprocessing import StandardScaler,MinMaxScaler\n",
    "from sklearn.model_selection import train_test_split\n",
    "import missingno as msno\n",
    "import random\n",
    "from mpl_toolkits.mplot3d import Axes3D\n",
    "from sklearn.neighbors import NearestNeighbors\n",
    "from sklearn.cluster import DBSCAN\n",
    "import math\n",
    "from sklearn.manifold import TSNE\n",
    "from sklearn.ensemble import RandomForestRegressor\n",
    "import matplotlib.pyplot as plt\n",
    "from tqdm import tqdm\n",
    "from sklearn.metrics import silhouette_score\n",
    "import copy\n",
    "import seaborn as sns"
   ]
  },
  {
   "cell_type": "markdown",
   "metadata": {},
   "source": [
    "#### Load data"
   ]
  },
  {
   "cell_type": "code",
   "execution_count": null,
   "metadata": {},
   "outputs": [],
   "source": [
    "data = pd.read_csv('D:/Downloads/Cust_agg_with_nut_score_trend_Aug_31.csv', index_col = 0)"
   ]
  },
  {
   "cell_type": "code",
   "execution_count": null,
   "metadata": {},
   "outputs": [],
   "source": [
    "pd.set_option('display.max_rows', 200)\n",
    "data.isnull().any().any()"
   ]
  },
  {
   "cell_type": "code",
   "execution_count": null,
   "metadata": {},
   "outputs": [],
   "source": [
    "data.head(3)"
   ]
  },
  {
   "cell_type": "markdown",
   "metadata": {},
   "source": [
    "#### Train/Test Split"
   ]
  },
  {
   "cell_type": "code",
   "execution_count": null,
   "metadata": {},
   "outputs": [],
   "source": [
    "cols_for_clustering = [\"days_since_prior_order_median\",\"order_number\",\"total_number_of_items_bought\",\"%_of_repetition\",\n",
    "                       \"Q1_scr_list\",\"Q2_scr_list\",\"Q3_scr_list\",\"Q4_scr_list\",\"nut_score_basket_median\",\"price_basket_sum\",\"price_basket_median\"]\n"
   ]
  },
  {
   "cell_type": "code",
   "execution_count": null,
   "metadata": {},
   "outputs": [],
   "source": [
    "df = data.sample(frac=1).reset_index(drop=True)\n",
    "x_train = df[:round(df.shape[0]*0.7)]\n",
    "x_test  = df[round(df.shape[0]*0.7)+1:]\n",
    "print(x_train.shape, x_test.shape)"
   ]
  },
  {
   "cell_type": "code",
   "execution_count": null,
   "metadata": {},
   "outputs": [],
   "source": [
    "x_train_gmm = x_train.loc[:,cols_for_clustering]\n",
    "x_test_gmm = x_test.loc[:,cols_for_clustering]"
   ]
  },
  {
   "cell_type": "code",
   "execution_count": null,
   "metadata": {},
   "outputs": [],
   "source": [
    "x_train_gmm"
   ]
  },
  {
   "cell_type": "markdown",
   "metadata": {},
   "source": [
    "#### Gaussian Mixture Model with StandardScaler"
   ]
  },
  {
   "cell_type": "code",
   "execution_count": null,
   "metadata": {},
   "outputs": [],
   "source": [
    "# Try min-max scaler\n",
    "SS = StandardScaler().fit(x_train_gmm)\n",
    "train_gmm = SS.transform(x_train_gmm)\n",
    "test_gmm  = SS.transform(x_test_gmm)"
   ]
  },
  {
   "cell_type": "code",
   "execution_count": null,
   "metadata": {},
   "outputs": [],
   "source": [
    "# n_init = 40\n",
    "# bic = range(2,10)\n",
    "\n",
    "bic = range(2,10) \n",
    "gmm_bic = []\n",
    "for b in bic:\n",
    "    model = GaussianMixture(n_components = b,n_init = 40, random_state = 2020)\n",
    "    model.fit(train_gmm)\n",
    "    gmm_bic.append(model.bic(train_gmm))\n",
    "\n",
    "plt.plot(bic, gmm_bic, '-o')\n",
    "plt.xlabel('number of clusters, k')\n",
    "plt.ylabel('bic')\n",
    "plt.xticks()\n",
    "plt.show()"
   ]
  },
  {
   "cell_type": "code",
   "execution_count": null,
   "metadata": {},
   "outputs": [],
   "source": [
    "gmm_bic"
   ]
  },
  {
   "cell_type": "code",
   "execution_count": null,
   "metadata": {},
   "outputs": [],
   "source": [
    "aic = range(2,10) \n",
    "gmm_aic = []\n",
    "for a in aic:\n",
    "    model = GaussianMixture(n_components = a,n_init = 40, random_state = 2020)\n",
    "    model.fit(train_gmm)\n",
    "    gmm_aic.append(model.aic(train_gmm))\n",
    "\n",
    "plt.plot(aic, gmm_aic, '-o')\n",
    "plt.xlabel('number of clusters, k')\n",
    "plt.ylabel('aic')\n",
    "plt.xticks()\n",
    "plt.show()"
   ]
  },
  {
   "cell_type": "code",
   "execution_count": null,
   "metadata": {},
   "outputs": [],
   "source": [
    "gmm_aic"
   ]
  },
  {
   "cell_type": "code",
   "execution_count": null,
   "metadata": {},
   "outputs": [],
   "source": [
    "slht = range(2,10)\n",
    "\n",
    "for s in slht:\n",
    "    model_train_n = GaussianMixture(n_components = s,n_init = 20, random_state = 2020)\n",
    "    labels_train_n = model_train_n.fit_predict(train_gmm)\n",
    "    sht_score_n = silhouette_score(train_gmm, labels_train_n)\n",
    "    print(\"when n =\",s , \"sil_score is =\", sht_score_n )"
   ]
  },
  {
   "cell_type": "markdown",
   "metadata": {},
   "source": [
    "#### Gaussian Mixture Model with MinMaxScaler"
   ]
  },
  {
   "cell_type": "code",
   "execution_count": null,
   "metadata": {},
   "outputs": [],
   "source": [
    "MM = MinMaxScaler().fit(x_train_gmm)\n",
    "mm_train_gmm = MM.transform(x_train_gmm)\n",
    "mm_test_gmm  = MM.transform(x_test_gmm)"
   ]
  },
  {
   "cell_type": "code",
   "execution_count": null,
   "metadata": {},
   "outputs": [],
   "source": [
    "bic = range(2,10) \n",
    "gmm_bic = []\n",
    "for b in bic:\n",
    "    model = GaussianMixture(n_components = b,n_init = 40, random_state = 2020)\n",
    "    model.fit(mm_train_gmm)\n",
    "    gmm_bic.append(model.bic(mm_train_gmm))\n",
    "\n",
    "plt.plot(bic, gmm_bic, '-o')\n",
    "plt.xlabel('number of clusters, k')\n",
    "plt.ylabel('bic')\n",
    "plt.xticks()\n",
    "plt.show()"
   ]
  },
  {
   "cell_type": "code",
   "execution_count": null,
   "metadata": {},
   "outputs": [],
   "source": [
    "gmm_bic"
   ]
  },
  {
   "cell_type": "code",
   "execution_count": null,
   "metadata": {},
   "outputs": [],
   "source": [
    "aic = range(2,10) \n",
    "gmm_aic = []\n",
    "for a in aic:\n",
    "    model = GaussianMixture(n_components = a,n_init = 40, random_state = 2020)\n",
    "    model.fit(mm_train_gmm)\n",
    "    gmm_aic.append(model.aic(mm_train_gmm))\n",
    "\n",
    "plt.plot(aic, gmm_aic, '-o')\n",
    "plt.xlabel('number of clusters, k')\n",
    "plt.ylabel('aic')\n",
    "plt.xticks()\n",
    "plt.show()"
   ]
  },
  {
   "cell_type": "code",
   "execution_count": null,
   "metadata": {},
   "outputs": [],
   "source": [
    "gmm_aic"
   ]
  },
  {
   "cell_type": "code",
   "execution_count": null,
   "metadata": {},
   "outputs": [],
   "source": [
    "slht = range(2,10)\n",
    "\n",
    "for s in slht:\n",
    "    model_train_n = GaussianMixture(n_components = s,n_init = 40, random_state = 2020)\n",
    "    labels_train_n = model_train_n.fit_predict(mm_train_gmm)\n",
    "    sht_score_n = silhouette_score(mm_train_gmm, labels_train_n)\n",
    "    print(\"when n =\",s , \"sil_score is =\", sht_score_n )"
   ]
  },
  {
   "cell_type": "code",
   "execution_count": null,
   "metadata": {},
   "outputs": [],
   "source": [
    "# Select 5 clusters\n",
    "\n",
    "model_gmm = GaussianMixture(n_components = 5,n_init = 40, random_state = 2020)\n",
    "labels_train_gmm = model_gmm.fit_predict(mm_train_gmm)"
   ]
  },
  {
   "cell_type": "code",
   "execution_count": null,
   "metadata": {},
   "outputs": [],
   "source": [
    "label_train_series = pd.Series(labels_train_gmm).value_counts()\n",
    "count_table = label_train_series.to_frame().reset_index()\n",
    "count_table.rename(columns = {\"index\":\"label\",0:\"count\"},inplace = True)\n",
    "count_table.plot.bar(x='label', y='count', rot=0)"
   ]
  },
  {
   "cell_type": "code",
   "execution_count": null,
   "metadata": {},
   "outputs": [],
   "source": [
    "pd.DataFrame(model_gmm.means_, columns = cols_for_clustering)"
   ]
  },
  {
   "cell_type": "markdown",
   "metadata": {},
   "source": [
    "#### Plot some feature to look at homogeneity "
   ]
  },
  {
   "cell_type": "code",
   "execution_count": null,
   "metadata": {},
   "outputs": [],
   "source": [
    "train_3D_plot = pd.DataFrame(mm_train_gmm, columns = cols_for_clustering)\n",
    "train_3D_plot[\"customer_type\"] = labels_train_gmm\n",
    "\n",
    "import plotly.express as px\n",
    "fig_train = px.scatter_3d(train_3D_plot, x='nut_score_basket_median', y='order_number', z='price_basket_median',\n",
    "              color='customer_type')\n",
    "fig_train.show()"
   ]
  },
  {
   "cell_type": "code",
   "execution_count": null,
   "metadata": {},
   "outputs": [],
   "source": [
    "fig_train = px.scatter_3d(train_3D_plot, x='nut_score_basket_median', y='total_number_of_items_bought', z='price_basket_median',\n",
    "              color='customer_type')\n",
    "fig_train.show()"
   ]
  },
  {
   "cell_type": "code",
   "execution_count": null,
   "metadata": {},
   "outputs": [],
   "source": [
    "fig_train = px.scatter_3d(train_3D_plot, x='total_number_of_items_bought', y='%_of_repetition', z='price_basket_sum',\n",
    "              color='customer_type')\n",
    "fig_train.show()"
   ]
  },
  {
   "cell_type": "markdown",
   "metadata": {},
   "source": [
    "#### Look at distribution of features to see which ones are Gaussian distribution"
   ]
  },
  {
   "cell_type": "code",
   "execution_count": null,
   "metadata": {},
   "outputs": [],
   "source": [
    "import matplotlib.pyplot as plt\n",
    "import seaborn as sns\n",
    "\n",
    "sns.distplot(data['days_since_prior_order_median'])"
   ]
  },
  {
   "cell_type": "code",
   "execution_count": null,
   "metadata": {},
   "outputs": [],
   "source": [
    "sns.distplot(data['total_number_of_items_bought'])"
   ]
  },
  {
   "cell_type": "code",
   "execution_count": null,
   "metadata": {},
   "outputs": [],
   "source": [
    "sns.distplot(data['%_of_repetition'])"
   ]
  },
  {
   "cell_type": "code",
   "execution_count": null,
   "metadata": {},
   "outputs": [],
   "source": [
    "sns.distplot(data['nut_score_basket_median'])"
   ]
  },
  {
   "cell_type": "code",
   "execution_count": null,
   "metadata": {},
   "outputs": [],
   "source": [
    "sns.distplot(data['price_basket_sum'])"
   ]
  },
  {
   "cell_type": "code",
   "execution_count": null,
   "metadata": {},
   "outputs": [],
   "source": [
    "sns.distplot(data['price_basket_median'])"
   ]
  },
  {
   "cell_type": "code",
   "execution_count": null,
   "metadata": {},
   "outputs": [],
   "source": [
    "sns.distplot(data['Q1_scr_list'])"
   ]
  },
  {
   "cell_type": "code",
   "execution_count": null,
   "metadata": {},
   "outputs": [],
   "source": [
    "sns.distplot(data['Q2_scr_list'])"
   ]
  },
  {
   "cell_type": "code",
   "execution_count": null,
   "metadata": {},
   "outputs": [],
   "source": [
    "sns.distplot(data['Q3_scr_list'])"
   ]
  },
  {
   "cell_type": "code",
   "execution_count": null,
   "metadata": {},
   "outputs": [],
   "source": [
    "sns.distplot(data['Q4_scr_list'])"
   ]
  },
  {
   "cell_type": "markdown",
   "metadata": {},
   "source": [
    "#### GMM on Nutrition Data"
   ]
  },
  {
   "cell_type": "code",
   "execution_count": null,
   "metadata": {},
   "outputs": [],
   "source": [
    "cols_for_clustering = [\"Q1_scr_list\",\"Q2_scr_list\",\"Q3_scr_list\",\"Q4_scr_list\",\"nut_score_basket_median\"]\n"
   ]
  },
  {
   "cell_type": "code",
   "execution_count": null,
   "metadata": {},
   "outputs": [],
   "source": [
    "df = data.sample(frac=1).reset_index(drop=True)\n",
    "x_train = df[:round(df.shape[0]*0.7)]\n",
    "x_test  = df[round(df.shape[0]*0.7)+1:]\n",
    "print(x_train.shape, x_test.shape)"
   ]
  },
  {
   "cell_type": "code",
   "execution_count": null,
   "metadata": {},
   "outputs": [],
   "source": [
    "x_train_gmm = x_train.loc[:,cols_for_clustering]\n",
    "x_test_gmm = x_test.loc[:,cols_for_clustering]"
   ]
  },
  {
   "cell_type": "code",
   "execution_count": null,
   "metadata": {},
   "outputs": [],
   "source": [
    "x_train_gmm"
   ]
  },
  {
   "cell_type": "code",
   "execution_count": null,
   "metadata": {},
   "outputs": [],
   "source": [
    "MM = MinMaxScaler().fit(x_train_gmm)\n",
    "mm_train_gmm = MM.transform(x_train_gmm)\n",
    "mm_test_gmm  = MM.transform(x_test_gmm)"
   ]
  },
  {
   "cell_type": "code",
   "execution_count": null,
   "metadata": {},
   "outputs": [],
   "source": [
    "bic = range(2,6) \n",
    "gmm_bic = []\n",
    "for b in bic:\n",
    "    model = GaussianMixture(n_components = b,n_init = 40, random_state = 2020)\n",
    "    model.fit(mm_train_gmm)\n",
    "    gmm_bic.append(model.bic(mm_train_gmm))\n",
    "\n",
    "plt.plot(bic, gmm_bic, '-o')\n",
    "plt.xlabel('number of clusters, k')\n",
    "plt.ylabel('bic')\n",
    "plt.xticks()\n",
    "plt.show()"
   ]
  },
  {
   "cell_type": "code",
   "execution_count": null,
   "metadata": {},
   "outputs": [],
   "source": [
    "gmm_bic"
   ]
  },
  {
   "cell_type": "code",
   "execution_count": null,
   "metadata": {},
   "outputs": [],
   "source": [
    "aic = range(2,6) \n",
    "gmm_aic = []\n",
    "for a in aic:\n",
    "    model = GaussianMixture(n_components = a,n_init = 40, random_state = 2020)\n",
    "    model.fit(mm_train_gmm)\n",
    "    gmm_aic.append(model.aic(mm_train_gmm))\n",
    "\n",
    "plt.plot(aic, gmm_aic, '-o')\n",
    "plt.xlabel('number of clusters, k')\n",
    "plt.ylabel('aic')\n",
    "plt.xticks()\n",
    "plt.show()"
   ]
  },
  {
   "cell_type": "code",
   "execution_count": null,
   "metadata": {},
   "outputs": [],
   "source": [
    "gmm_aic"
   ]
  },
  {
   "cell_type": "code",
   "execution_count": null,
   "metadata": {},
   "outputs": [],
   "source": [
    "slht = range(2,6)\n",
    "\n",
    "for s in slht:\n",
    "    model_train_n = GaussianMixture(n_components = s,n_init = 40, random_state = 2020)\n",
    "    labels_train_n = model_train_n.fit_predict(mm_train_gmm)\n",
    "    sht_score_n = silhouette_score(mm_train_gmm, labels_train_n)\n",
    "    print(\"when n =\",s , \"sil_score is =\", sht_score_n )"
   ]
  },
  {
   "cell_type": "code",
   "execution_count": null,
   "metadata": {},
   "outputs": [],
   "source": [
    "# Select 3 clusters\n",
    "\n",
    "model_gmm = GaussianMixture(n_components = 3,n_init = 40, random_state = 2020)\n",
    "labels_train_gmm = model_gmm.fit_predict(mm_train_gmm)"
   ]
  },
  {
   "cell_type": "code",
   "execution_count": null,
   "metadata": {},
   "outputs": [],
   "source": [
    "label_train_series = pd.Series(labels_train_gmm).value_counts()\n",
    "count_table = label_train_series.to_frame().reset_index()\n",
    "count_table.rename(columns = {\"index\":\"label\",0:\"count\"},inplace = True)\n",
    "count_table.plot.bar(x='label', y='count', rot=0)"
   ]
  },
  {
   "cell_type": "code",
   "execution_count": null,
   "metadata": {},
   "outputs": [],
   "source": [
    "pd.DataFrame(model_gmm.means_, columns = cols_for_clustering)"
   ]
  },
  {
   "cell_type": "code",
   "execution_count": null,
   "metadata": {},
   "outputs": [],
   "source": [
    "# Select 2 clusters\n",
    "\n",
    "model_gmm = GaussianMixture(n_components = 2,n_init = 40, random_state = 2020)\n",
    "labels_train_gmm = model_gmm.fit_predict(mm_train_gmm)"
   ]
  },
  {
   "cell_type": "code",
   "execution_count": null,
   "metadata": {},
   "outputs": [],
   "source": [
    "label_train_series = pd.Series(labels_train_gmm).value_counts()\n",
    "count_table = label_train_series.to_frame().reset_index()\n",
    "count_table.rename(columns = {\"index\":\"label\",0:\"count\"},inplace = True)\n",
    "count_table.plot.bar(x='label', y='count', rot=0)"
   ]
  },
  {
   "cell_type": "code",
   "execution_count": null,
   "metadata": {},
   "outputs": [],
   "source": [
    "pd.DataFrame(model_gmm.means_, columns = cols_for_clustering)"
   ]
  }
 ],
 "metadata": {
  "kernelspec": {
   "display_name": "Python 3",
   "language": "python",
   "name": "python3"
  },
  "language_info": {
   "codemirror_mode": {
    "name": "ipython",
    "version": 3
   },
   "file_extension": ".py",
   "mimetype": "text/x-python",
   "name": "python",
   "nbconvert_exporter": "python",
   "pygments_lexer": "ipython3",
   "version": "3.7.3"
  }
 },
 "nbformat": 4,
 "nbformat_minor": 2
}
